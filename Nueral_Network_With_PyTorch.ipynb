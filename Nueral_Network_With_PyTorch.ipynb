{
  "nbformat": 4,
  "nbformat_minor": 0,
  "metadata": {
    "colab": {
      "name": "Nueral_Network_With_PyTorch.ipynb",
      "version": "0.3.2",
      "provenance": [],
      "include_colab_link": true
    },
    "kernelspec": {
      "name": "python3",
      "display_name": "Python 3"
    }
  },
  "cells": [
    {
      "cell_type": "markdown",
      "metadata": {
        "id": "view-in-github",
        "colab_type": "text"
      },
      "source": [
        "<a href=\"https://colab.research.google.com/github/UrviSoni/pytorch_deeplearning/blob/master/Nueral_Network_With_PyTorch.ipynb\" target=\"_parent\"><img src=\"https://colab.research.google.com/assets/colab-badge.svg\" alt=\"Open In Colab\"/></a>"
      ]
    },
    {
      "metadata": {
        "id": "2-fiwEq9QkbQ",
        "colab_type": "code",
        "colab": {}
      },
      "cell_type": "code",
      "source": [
        "import numpy as np\n",
        "import torch\n",
        "import helper\n",
        "import matplotlib.pyplot as plt\n",
        "from torchvision import datasets, transforms"
      ],
      "execution_count": 0,
      "outputs": []
    },
    {
      "metadata": {
        "id": "2Dp_NomkRnOW",
        "colab_type": "code",
        "colab": {}
      },
      "cell_type": "code",
      "source": [
        "\n",
        "#Define transform to normalize the data\n",
        "\n",
        "data_transform = transforms.Compose([transforms.ToTensor(), transforms.Normalize((0.5,0.5,0.5), (0.5,0.5,0.5)),])\n",
        "\n",
        "#Download and load the training data\n",
        "trainset = datasets.MNIST('MNIST_data/', download=True, train=True, transform=transform)\n",
        "trainloader = torch.utils.data.DataLoader(trainset, batch_size=64, shuffle=True)"
      ],
      "execution_count": 0,
      "outputs": []
    },
    {
      "metadata": {
        "id": "_eH5m87hTfm_",
        "colab_type": "code",
        "colab": {
          "base_uri": "https://localhost:8080/",
          "height": 68
        },
        "outputId": "6924f2a3-1300-46d9-ffb0-b93f90830954"
      },
      "cell_type": "code",
      "source": [
        "dataiter = iter(trainloader)\n",
        "images, labels = dataiter.next()\n",
        "print(type(images))\n",
        "print(images.shape)\n",
        "print(labels.shape)"
      ],
      "execution_count": 42,
      "outputs": [
        {
          "output_type": "stream",
          "text": [
            "<class 'torch.Tensor'>\n",
            "torch.Size([64, 1, 28, 28])\n",
            "torch.Size([64])\n"
          ],
          "name": "stdout"
        }
      ]
    },
    {
      "metadata": {
        "id": "BtpIYJd4Ydef",
        "colab_type": "code",
        "colab": {
          "base_uri": "https://localhost:8080/",
          "height": 347
        },
        "outputId": "2959545a-f017-4575-b023-7215de239af3"
      },
      "cell_type": "code",
      "source": [
        "plt.imshow(images[1].numpy().squeeze(), cmap='Greys_r');"
      ],
      "execution_count": 43,
      "outputs": [
        {
          "output_type": "display_data",
          "data": {
            "image/png": "[encoded data removed]",
            "text/plain": [
              "<matplotlib.figure.Figure at 0x7f886f8599e8>"
            ]
          },
          "metadata": {
            "tags": []
          }
        }
      ]
    },
    {
      "metadata": {
        "id": "_mxsPOvcsfDG",
        "colab_type": "code",
        "colab": {
          "base_uri": "https://localhost:8080/",
          "height": 2210
        },
        "outputId": "85061fea-70ad-43ac-b791-b75d22956ede"
      },
      "cell_type": "code",
      "source": [
        "## Solution\n",
        "\n",
        "def activation(x):\n",
        "  return 1/(1+torch.exp(-x))\n",
        "\n",
        "# Flatten the input images\n",
        "inputs = images.view(images.shape[0], -1)\n",
        "\n",
        "# Create Paramters\n",
        "w1 = torch.randn(784, 256)\n",
        "b1 = torch.randn(256)\n",
        "\n",
        "w2 = torch.randn(256, 10)\n",
        "b2 = torch.randn(10)\n",
        "\n",
        "h = activation(torch.mm(inputs, w1) + b1)\n",
        "\n",
        "out = torch.mm(h, w2) + b2\n",
        "print(out.shape)\n",
        "print(out)\n"
      ],
      "execution_count": 44,
      "outputs": [
        {
          "output_type": "stream",
          "text": [
            "torch.Size([64, 10])\n",
            "tensor([[-10.2706,   0.2418, -12.2841, -14.0818,  -0.5822,   5.8553,   6.2704,\n",
            "         -27.3486,   3.9716, -16.1439],\n",
            "        [ -6.7493,  -0.7786, -16.7022, -10.3043,  -0.0164,  11.5046,   7.0574,\n",
            "         -21.5698,  -1.6722, -14.3199],\n",
            "        [ -8.6818,  -1.6873, -11.0079, -13.4875,   5.3170,  10.9143,   8.3179,\n",
            "         -22.6604,   3.5375, -16.5641],\n",
            "        [ -4.8230,  16.4447,  -2.1024, -13.8682,   4.0244,   3.3799,  16.1574,\n",
            "         -29.2450,   2.3902, -22.4457],\n",
            "        [ -1.7310,  -6.0056,  -3.8177, -15.8450,   2.9577,   7.1032,   9.3214,\n",
            "         -30.8527,   3.5534, -16.6499],\n",
            "        [ -1.8225,  -1.9752,  -6.4330, -10.8824,   6.3739,   5.0708,  15.3688,\n",
            "         -28.1953,   6.9950, -22.8590],\n",
            "        [-12.9277,  10.7321, -12.3874,  -9.1046,   3.7915,   7.2073,  12.9662,\n",
            "         -21.2454,   3.5903, -15.0666],\n",
            "        [ -7.8339,  -2.4116,  -3.4784, -10.5268,  11.0623,  -1.1096,  22.0320,\n",
            "         -22.4185,   5.1855, -16.5100],\n",
            "        [ -5.1406,  -1.2717, -11.4625, -17.0230,  12.0179,   7.7009,   8.8930,\n",
            "         -22.7516,  11.2278, -17.4963],\n",
            "        [ -7.8264,  -0.0072, -13.2771,  -9.3300,   5.1081,   8.8863,  10.1663,\n",
            "         -30.2691,   2.7679, -23.0422],\n",
            "        [ -7.9297,   9.4467, -12.7249, -11.7300,   4.1227,   9.9361,  10.7030,\n",
            "         -25.7297,   2.0848, -18.9681],\n",
            "        [ -4.1838,   1.6321, -17.8051,  -8.8804,   3.6705,  12.4343,   8.2786,\n",
            "         -26.5549,   1.3795, -24.2000],\n",
            "        [-11.1205,  -1.1351,  -4.6212,  -7.9164,  11.7350,  10.3198,   6.8096,\n",
            "         -26.3742,   7.2582, -20.2898],\n",
            "        [-10.1496,   1.2626, -10.0158,  -6.8942,  10.8254,  12.9561,  12.5478,\n",
            "         -23.3494,  -4.5292, -16.8168],\n",
            "        [ -9.5163,  -0.7023, -13.6244, -14.0528,   2.5183,  11.3838,   6.8662,\n",
            "         -26.1729,   2.7129, -17.0182],\n",
            "        [ -6.0881,  -2.5647, -10.6233, -14.1283,   1.2841,   5.8431,  14.3934,\n",
            "         -25.2204,   7.1135, -11.6075],\n",
            "        [ -4.9849,  -3.6343,  -0.1365,  -8.9290,  -0.8680,   1.5449,  16.9412,\n",
            "         -21.9717,  -1.6532,  -9.0783],\n",
            "        [ -2.1876,  -8.3380, -12.1880, -11.6062,   5.8319,  17.4602,  12.3753,\n",
            "         -23.2823,  -3.0938, -11.5351],\n",
            "        [-10.5832,  11.2234,  -3.7482,  -2.8953,   5.8245,   2.5730,  19.7338,\n",
            "         -22.3720,  -4.2064, -12.4053],\n",
            "        [-16.1495,  -9.0635,  -8.7585,  -2.5408,   1.1748,  10.2339,  16.5612,\n",
            "         -22.4380,   4.7248, -16.2053],\n",
            "        [ -9.1011,  -1.6650,  -9.5442, -10.9123,   4.6968,  11.2831,   8.5725,\n",
            "         -19.3899,  -5.6131, -17.4200],\n",
            "        [ -0.8445,   9.4563,  -2.1948,  -6.5631,  -3.4669,   5.6624,  11.3224,\n",
            "         -31.8981, -11.4263, -19.4403],\n",
            "        [-10.1845,   4.4027,  -8.1397,  -5.4270,  -8.7439,  12.0387,  16.5646,\n",
            "         -27.9593,   3.5178, -17.9493],\n",
            "        [ -4.9766, -13.7500,  -9.1851, -18.2543,   5.5111,  11.3170,  12.6987,\n",
            "         -24.5951,  -1.0218, -15.3242],\n",
            "        [ -8.2763,  -0.4232,  -7.1794, -14.4972,   4.0516,   3.1190,  14.7227,\n",
            "         -29.7298,   8.7726, -15.4483],\n",
            "        [  0.4454,   3.4523,  -3.8453,  -9.1784,   6.1753,   9.1572,   2.9253,\n",
            "         -24.7069,  -3.6945, -15.6336],\n",
            "        [ -7.0297,  -3.6819,  -8.9050, -15.0184,  -4.5786,  11.9809,  15.1005,\n",
            "         -25.2455,  12.3751, -17.6900],\n",
            "        [ -5.1411,  -4.4666,  -7.3934, -11.7705,   1.8616,  11.8391,   8.2196,\n",
            "         -25.3020,   0.4983, -21.7617],\n",
            "        [ -8.0140,   6.8335, -14.5148, -13.4992,  18.5634,  16.2778,  21.8629,\n",
            "         -22.5379,  -2.3850, -21.2062],\n",
            "        [ -2.2989,   0.8197,  -1.5412, -11.3122,   2.9310,  11.0584,   7.9048,\n",
            "         -28.1844,   4.5948, -16.1100],\n",
            "        [ -8.0592,  -4.1248, -11.2324, -19.2858,   5.2940,   1.8432,  -0.7391,\n",
            "         -22.7948,  -7.1807, -24.7810],\n",
            "        [ -5.8594,  -1.6322, -13.5730, -13.5934,  -0.3423,   1.5319,  16.1532,\n",
            "         -25.7323,   1.1986, -23.0141],\n",
            "        [ -9.5157,  -1.5264, -11.5493, -10.0970,   2.5208,   7.4004,  13.3633,\n",
            "         -22.9885,   2.7089,  -9.9290],\n",
            "        [-12.6034,  14.7584,  -7.5748,  -7.2208,   8.8724,   8.3233,   7.2272,\n",
            "         -29.9909,   0.8760, -18.3840],\n",
            "        [-11.7351,  -6.6432, -11.9802, -14.6604,  16.4021,   6.8333,   6.6788,\n",
            "         -19.9445,  -1.2028, -18.5429],\n",
            "        [ -3.2504,   2.0352,  -3.3591, -15.2240,   5.1135,   5.5566,   7.7239,\n",
            "         -25.6173,   1.7442,  -9.4268],\n",
            "        [ -9.5014,   2.2466,  -5.6036, -13.2081,   3.1243,   4.5411,  15.4132,\n",
            "         -28.7073,   5.8060, -11.8663],\n",
            "        [-15.7788,  18.7494,  -7.6453,  -8.4958,   2.5577,   3.7590,  25.3261,\n",
            "         -32.7743,   2.9462, -18.1847],\n",
            "        [-15.1386,   9.1125,  -8.7157, -18.8325,   4.5616,   6.7086,   5.3697,\n",
            "         -28.2868,  -0.5008, -15.7145],\n",
            "        [ -8.6864,   4.5667, -12.9076, -14.6105,   8.0871,  10.1470,   2.5079,\n",
            "         -23.2575,   0.9170, -17.4384],\n",
            "        [-10.9645,  -6.8923,  -8.6589, -12.0008,  14.9988,  11.7713,  11.4783,\n",
            "         -26.2495,  -4.3552, -15.4437],\n",
            "        [ -5.4693,   2.2807, -11.6178, -17.7460,   1.0973,  14.1217,  12.7433,\n",
            "         -26.0749,  -1.7366, -25.4243],\n",
            "        [-12.4179,  -1.4465, -10.3643,  -6.7464,  13.6746,   7.3208,  15.1562,\n",
            "         -19.1974,   1.8062, -13.8191],\n",
            "        [ -4.6609,  -0.5970,  -9.0382,  -5.4311,   6.1939,  14.7126,   5.1802,\n",
            "         -26.7644,  -1.9306, -14.6566],\n",
            "        [ -9.7011,  -1.9601, -14.1316, -16.4164,   9.8796,   8.2784,   8.3642,\n",
            "         -25.3492,   6.3054, -18.6955],\n",
            "        [ -3.6059,   8.2544, -12.5565, -11.0468,  16.9675,   9.8451,  11.1647,\n",
            "         -13.8705,  -0.9179, -14.5094],\n",
            "        [-16.3389,   0.5067, -10.8514,  -0.1454,   2.4571,   0.4719,  10.0065,\n",
            "         -27.9042,  -0.9439, -17.4266],\n",
            "        [ -6.4087,   1.3487,  -9.1090,  -7.3638,   2.5863,  13.6261,   6.9694,\n",
            "         -28.4340,   3.6738, -16.6465],\n",
            "        [ -8.1859,   6.1648,  -1.9089, -10.5698,   6.8461,   6.0566,  14.7710,\n",
            "         -24.3667,   5.2138, -16.7168],\n",
            "        [-14.3717,   3.5373,  -9.5909,  -6.5976,   8.7521,  -1.4692,  17.3775,\n",
            "         -26.3704,   1.7616, -19.7902],\n",
            "        [ -7.3069,   6.5707,  -8.9378, -12.1923,   9.7296,   4.1290,   8.1843,\n",
            "         -27.6898,   2.1785, -24.2340],\n",
            "        [ -7.3340,  -2.0328,  -4.7168,  -4.5614,  10.2142,   6.0648,  11.7736,\n",
            "         -29.0157,   8.2235, -12.8864],\n",
            "        [-14.3496,  -1.3038, -16.7640, -21.0146,   8.3573,   6.2410,   3.1044,\n",
            "         -21.4999,   5.2697, -16.3391],\n",
            "        [ -6.8603,  -4.9229,  -7.0607,  -6.9538,   3.3205,   5.4498,  10.2043,\n",
            "         -22.1317,  -4.6022, -17.3062],\n",
            "        [  1.7779,   5.2935,  -7.9087, -16.7784,   5.1344,   4.1607,   6.7773,\n",
            "         -24.1149,   8.5568, -15.2156],\n",
            "        [ -8.7429,   6.1841,  -8.0185, -14.5697,  -2.8171,   0.3634,   9.9935,\n",
            "         -26.5313,  10.0069, -23.8937],\n",
            "        [ -5.8366,  -7.7117,  -9.4566,  -5.5951,  -1.0901,  -3.5981,  18.2238,\n",
            "         -16.8236,   3.6079, -24.8426],\n",
            "        [ -8.9501,   4.9813, -11.8720, -16.3316,   6.3563,  -2.2934,  13.7367,\n",
            "         -27.8330,  -1.3800, -13.9493],\n",
            "        [ -6.9593,   9.3960,  -8.4837,  -4.6719,  -8.2222,  -1.5308,  20.4019,\n",
            "         -28.1402,   3.5307, -17.1257],\n",
            "        [ -9.5451,  -1.1884, -14.1870, -17.2556,   6.7800,   4.9558,   8.1703,\n",
            "         -13.3951,  -3.6905, -24.5900],\n",
            "        [-12.4002,   1.9957,   2.0427, -12.2002,   0.6000,   9.6223,  12.5195,\n",
            "         -28.5644,   0.6074, -13.1939],\n",
            "        [ -7.4263,   5.0093,  -6.3067, -13.8381,   6.2612,   2.3586,  10.8089,\n",
            "         -22.2339,   1.0445, -21.8537],\n",
            "        [ -5.9324,   0.5430,  -9.0294,  -3.6952,   9.0092,   7.3783,  10.9363,\n",
            "         -22.6972,  -3.9085, -15.7785],\n",
            "        [ -7.7864,  -6.4835, -12.8419, -10.8189,   0.0691,  12.9668,   5.5173,\n",
            "         -24.9188,   1.7477, -11.9850]])\n"
          ],
          "name": "stdout"
        }
      ]
    }
  ]
}