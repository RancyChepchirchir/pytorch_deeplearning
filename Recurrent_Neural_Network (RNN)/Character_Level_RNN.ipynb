{
  "nbformat": 4,
  "nbformat_minor": 0,
  "metadata": {
    "colab": {
      "name": "Character_Level_RNN.ipynb",
      "version": "0.3.2",
      "provenance": [],
      "include_colab_link": true
    },
    "kernelspec": {
      "name": "python3",
      "display_name": "Python 3"
    },
    "accelerator": "GPU"
  },
  "cells": [
    {
      "cell_type": "markdown",
      "metadata": {
        "id": "view-in-github",
        "colab_type": "text"
      },
      "source": [
        "<a href=\"https://colab.research.google.com/github/UrviSoni/pytorch_deeplearning/blob/master/Character_Level_RNN.ipynb\" target=\"_parent\"><img src=\"https://colab.research.google.com/assets/colab-badge.svg\" alt=\"Open In Colab\"/></a>"
      ]
    },
    {
      "metadata": {
        "id": "ocRpAnh45n3a",
        "colab_type": "code",
        "colab": {}
      },
      "cell_type": "code",
      "source": [
        "import numpy as np\n",
        "import torch\n",
        "from torch import nn\n",
        "import torch.nn.functional as F\n"
      ],
      "execution_count": 0,
      "outputs": []
    },
    {
      "metadata": {
        "id": "ycz25ho950D4",
        "colab_type": "code",
        "colab": {}
      },
      "cell_type": "code",
      "source": [
        "# open text file and read in data as `text`\n",
        "with open('anna.txt', 'r') as f:\n",
        "    text = f.read()\n"
      ],
      "execution_count": 0,
      "outputs": []
    },
    {
      "metadata": {
        "id": "ulW0evng6F0-",
        "colab_type": "code",
        "colab": {
          "base_uri": "https://localhost:8080/",
          "height": 34
        },
        "outputId": "119d63c4-ef87-44a4-8861-96bee16ad924"
      },
      "cell_type": "code",
      "source": [
        "text[:100]\n"
      ],
      "execution_count": 8,
      "outputs": [
        {
          "output_type": "execute_result",
          "data": {
            "text/plain": [
              "'Chapter 1\\n\\n\\nHappy families are all alike; every unhappy family is unhappy in its own\\nway.\\n\\nEverythin'"
            ]
          },
          "metadata": {
            "tags": []
          },
          "execution_count": 8
        }
      ]
    },
    {
      "metadata": {
        "id": "cfEL1FUk6JQH",
        "colab_type": "code",
        "colab": {}
      },
      "cell_type": "code",
      "source": [
        "# encode the text and map each character to an integer and vice versa\n",
        "\n",
        "# we create two dictionaries:\n",
        "# 1. int2char, which maps integers to characters\n",
        "# 2. char2int, which maps characters to unique integers\n",
        "chars = tuple(set(text))\n",
        "int2char = dict(enumerate(chars))\n",
        "char2int = {ch: ii for ii, ch in int2char.items()}\n",
        "\n",
        "# encode the text\n",
        "encoded = np.array([char2int[ch] for ch in text])\n"
      ],
      "execution_count": 0,
      "outputs": []
    },
    {
      "metadata": {
        "id": "BeM7ljom6OSu",
        "colab_type": "code",
        "colab": {
          "base_uri": "https://localhost:8080/",
          "height": 119
        },
        "outputId": "798a03b1-208a-4c87-d2ea-0cb828ef04ce"
      },
      "cell_type": "code",
      "source": [
        "encoded[:100]\n"
      ],
      "execution_count": 10,
      "outputs": [
        {
          "output_type": "execute_result",
          "data": {
            "text/plain": [
              "array([47,  8, 24, 42, 81, 73, 58, 82, 78, 66, 66, 66, 57, 24, 42, 42, 18,\n",
              "       82,  9, 24, 61, 54,  1, 54, 73, 79, 82, 24, 58, 73, 82, 24,  1,  1,\n",
              "       82, 24,  1, 54, 32, 73, 77, 82, 73, 80, 73, 58, 18, 82, 65, 10,  8,\n",
              "       24, 42, 42, 18, 82,  9, 24, 61, 54,  1, 18, 82, 54, 79, 82, 65, 10,\n",
              "        8, 24, 42, 42, 18, 82, 54, 10, 82, 54, 81, 79, 82, 30, 74, 10, 66,\n",
              "       74, 24, 18, 50, 66, 66, 53, 80, 73, 58, 18, 81,  8, 54, 10])"
            ]
          },
          "metadata": {
            "tags": []
          },
          "execution_count": 10
        }
      ]
    },
    {
      "metadata": {
        "id": "H43wxxBm6SMA",
        "colab_type": "code",
        "colab": {}
      },
      "cell_type": "code",
      "source": [
        "def one_hot_encode(arr, n_labels):\n",
        "    \n",
        "    # Initialize the the encoded array\n",
        "    one_hot = np.zeros((np.multiply(*arr.shape), n_labels), dtype=np.float32)\n",
        "    \n",
        "    # Fill the appropriate elements with ones\n",
        "    one_hot[np.arange(one_hot.shape[0]), arr.flatten()] = 1.\n",
        "    \n",
        "    # Finally reshape it to get back to the original array\n",
        "    one_hot = one_hot.reshape((*arr.shape, n_labels))\n",
        "    \n",
        "    return one_hot\n"
      ],
      "execution_count": 0,
      "outputs": []
    },
    {
      "metadata": {
        "id": "iDNnc5Gt6YjW",
        "colab_type": "code",
        "colab": {
          "base_uri": "https://localhost:8080/",
          "height": 68
        },
        "outputId": "f572f2b2-db5f-4542-8e93-ebbd6b7c901c"
      },
      "cell_type": "code",
      "source": [
        "# check that the function works as expected\n",
        "test_seq = np.array([[3, 5, 1]])\n",
        "one_hot = one_hot_encode(test_seq, 8)\n",
        "\n",
        "print(one_hot)\n"
      ],
      "execution_count": 12,
      "outputs": [
        {
          "output_type": "stream",
          "text": [
            "[[[0. 0. 0. 1. 0. 0. 0. 0.]\n",
            "  [0. 0. 0. 0. 0. 1. 0. 0.]\n",
            "  [0. 1. 0. 0. 0. 0. 0. 0.]]]\n"
          ],
          "name": "stdout"
        }
      ]
    },
    {
      "metadata": {
        "id": "resPETP-6fS8",
        "colab_type": "code",
        "colab": {}
      },
      "cell_type": "code",
      "source": [
        "def get_batches(arr, batch_size, seq_length):\n",
        "    '''Create a generator that returns batches of size\n",
        "       batch_size x seq_length from arr.\n",
        "       \n",
        "       Arguments\n",
        "       ---------\n",
        "       arr: Array you want to make batches from\n",
        "       batch_size: Batch size, the number of sequences per batch\n",
        "       seq_length: Number of encoded chars in a sequence\n",
        "    '''\n",
        "    \n",
        "    batch_size_total = batch_size * seq_length\n",
        "    # total number of batches we can make\n",
        "    n_batches = len(arr)//batch_size_total\n",
        "    \n",
        "    # Keep only enough characters to make full batches\n",
        "    arr = arr[:n_batches * batch_size_total]\n",
        "    # Reshape into batch_size rows\n",
        "    arr = arr.reshape((batch_size, -1))\n",
        "    \n",
        "    # iterate through the array, one sequence at a time\n",
        "    for n in range(0, arr.shape[1], seq_length):\n",
        "        # The features\n",
        "        x = arr[:, n:n+seq_length]\n",
        "        # The targets, shifted by one\n",
        "        y = np.zeros_like(x)\n",
        "        try:\n",
        "            y[:, :-1], y[:, -1] = x[:, 1:], arr[:, n+seq_length]\n",
        "        except IndexError:\n",
        "            y[:, :-1], y[:, -1] = x[:, 1:], arr[:, 0]\n",
        "        yield x, y\n"
      ],
      "execution_count": 0,
      "outputs": []
    },
    {
      "metadata": {
        "id": "rdjd9cWE6oid",
        "colab_type": "code",
        "colab": {}
      },
      "cell_type": "code",
      "source": [
        "batches = get_batches(encoded, 8, 50)\n",
        "x, y = next(batches)\n"
      ],
      "execution_count": 0,
      "outputs": []
    },
    {
      "metadata": {
        "id": "lzvYdFnK6ti_",
        "colab_type": "code",
        "colab": {
          "base_uri": "https://localhost:8080/",
          "height": 340
        },
        "outputId": "f0d6107b-3b97-48df-d7d7-31b3b6f7b944"
      },
      "cell_type": "code",
      "source": [
        "# printing out the first 10 items in a sequence\n",
        "print('x\\n', x[:10, :10])\n",
        "print('\\ny\\n', y[:10, :10])\n"
      ],
      "execution_count": 15,
      "outputs": [
        {
          "output_type": "stream",
          "text": [
            "x\n",
            " [[47  8 24 42 81 73 58 82 78 66]\n",
            " [79 30 10 82 81  8 24 81 82 24]\n",
            " [73 10  4 82 30 58 82 24 82  9]\n",
            " [79 82 81  8 73 82 55  8 54 73]\n",
            " [82 79 24 74 82  8 73 58 82 81]\n",
            " [55 65 79 79 54 30 10 82 24 10]\n",
            " [82 56 10 10 24 82  8 24  4 82]\n",
            " [60 48  1 30 10 79 32 18 50 82]]\n",
            "\n",
            "y\n",
            " [[ 8 24 42 81 73 58 82 78 66 66]\n",
            " [30 10 82 81  8 24 81 82 24 81]\n",
            " [10  4 82 30 58 82 24 82  9 30]\n",
            " [82 81  8 73 82 55  8 54 73  9]\n",
            " [79 24 74 82  8 73 58 82 81 73]\n",
            " [65 79 79 54 30 10 82 24 10  4]\n",
            " [56 10 10 24 82  8 24  4 82 79]\n",
            " [48  1 30 10 79 32 18 50 82 36]]\n"
          ],
          "name": "stdout"
        }
      ]
    },
    {
      "metadata": {
        "id": "pYYebuoo6wfz",
        "colab_type": "code",
        "colab": {
          "base_uri": "https://localhost:8080/",
          "height": 34
        },
        "outputId": "45de9136-4cc1-45a7-9ae6-618bc6e92c78"
      },
      "cell_type": "code",
      "source": [
        "# check if GPU is available\n",
        "train_on_gpu = torch.cuda.is_available()\n",
        "if(train_on_gpu):\n",
        "    print('Training on GPU!')\n",
        "else: \n",
        "    print('No GPU available, training on CPU; consider making n_epochs very small.')\n"
      ],
      "execution_count": 16,
      "outputs": [
        {
          "output_type": "stream",
          "text": [
            "Training on GPU!\n"
          ],
          "name": "stdout"
        }
      ]
    },
    {
      "metadata": {
        "id": "uxJAOmLF61MQ",
        "colab_type": "code",
        "colab": {}
      },
      "cell_type": "code",
      "source": [
        "class CharRNN(nn.Module):\n",
        "    \n",
        "    def __init__(self, tokens, n_hidden=256, n_layers=2,\n",
        "                               drop_prob=0.5, lr=0.001):\n",
        "        super().__init__()\n",
        "        self.drop_prob = drop_prob\n",
        "        self.n_layers = n_layers\n",
        "        self.n_hidden = n_hidden\n",
        "        self.lr = lr\n",
        "        \n",
        "        # creating character dictionaries\n",
        "        self.chars = tokens\n",
        "        self.int2char = dict(enumerate(self.chars))\n",
        "        self.char2int = {ch: ii for ii, ch in self.int2char.items()}\n",
        "        \n",
        "        ## TODO: define the LSTM\n",
        "        self.lstm = nn.LSTM(len(self.chars), n_hidden, n_layers, \n",
        "                            dropout=drop_prob, batch_first=True)\n",
        "        \n",
        "        ## TODO: define a dropout layer\n",
        "        self.dropout = nn.Dropout(drop_prob)\n",
        "        \n",
        "        ## TODO: define the final, fully-connected output layer\n",
        "        self.fc = nn.Linear(n_hidden, len(self.chars))\n",
        "      \n",
        "    \n",
        "    def forward(self, x, hidden):\n",
        "        ''' Forward pass through the network. \n",
        "            These inputs are x, and the hidden/cell state `hidden`. '''\n",
        "                \n",
        "        ## TODO: Get the outputs and the new hidden state from the lstm\n",
        "        r_output, hidden = self.lstm(x, hidden)\n",
        "        \n",
        "        ## TODO: pass through a dropout layer\n",
        "        out = self.dropout(r_output)\n",
        "        \n",
        "        # Stack up LSTM outputs using view\n",
        "        # you may need to use contiguous to reshape the output\n",
        "        out = out.contiguous().view(-1, self.n_hidden)\n",
        "        \n",
        "        ## TODO: put x through the fully-connected layer\n",
        "        out = self.fc(out)\n",
        "        \n",
        "        # return the final output and the hidden state\n",
        "        return out, hidden\n",
        "    \n",
        "    \n",
        "    def init_hidden(self, batch_size):\n",
        "        ''' Initializes hidden state '''\n",
        "        # Create two new tensors with sizes n_layers x batch_size x n_hidden,\n",
        "        # initialized to zero, for hidden state and cell state of LSTM\n",
        "        weight = next(self.parameters()).data\n",
        "        \n",
        "        if (train_on_gpu):\n",
        "            hidden = (weight.new(self.n_layers, batch_size, self.n_hidden).zero_().cuda(),\n",
        "                  weight.new(self.n_layers, batch_size, self.n_hidden).zero_().cuda())\n",
        "        else:\n",
        "            hidden = (weight.new(self.n_layers, batch_size, self.n_hidden).zero_(),\n",
        "                      weight.new(self.n_layers, batch_size, self.n_hidden).zero_())\n",
        "        \n",
        "        return hidden\n"
      ],
      "execution_count": 0,
      "outputs": []
    },
    {
      "metadata": {
        "id": "yjfhTUlt70cn",
        "colab_type": "code",
        "colab": {}
      },
      "cell_type": "code",
      "source": [
        "def train(net, data, epochs=10, batch_size=10, seq_length=50, lr=0.001, clip=5, val_frac=0.1, print_every=10):\n",
        "    ''' Training a network \n",
        "    \n",
        "        Arguments\n",
        "        ---------\n",
        "        \n",
        "        net: CharRNN network\n",
        "        data: text data to train the network\n",
        "        epochs: Number of epochs to train\n",
        "        batch_size: Number of mini-sequences per mini-batch, aka batch size\n",
        "        seq_length: Number of character steps per mini-batch\n",
        "        lr: learning rate\n",
        "        clip: gradient clipping\n",
        "        val_frac: Fraction of data to hold out for validation\n",
        "        print_every: Number of steps for printing training and validation loss\n",
        "    \n",
        "    '''\n",
        "    net.train()\n",
        "    \n",
        "    opt = torch.optim.Adam(net.parameters(), lr=lr)\n",
        "    criterion = nn.CrossEntropyLoss()\n",
        "    \n",
        "    # create training and validation data\n",
        "    val_idx = int(len(data)*(1-val_frac))\n",
        "    data, val_data = data[:val_idx], data[val_idx:]\n",
        "    \n",
        "    if(train_on_gpu):\n",
        "        net.cuda()\n",
        "    \n",
        "    counter = 0\n",
        "    n_chars = len(net.chars)\n",
        "    for e in range(epochs):\n",
        "        # initialize hidden state\n",
        "        h = net.init_hidden(batch_size)\n",
        "        \n",
        "        for x, y in get_batches(data, batch_size, seq_length):\n",
        "            counter += 1\n",
        "            \n",
        "            # One-hot encode our data and make them Torch tensors\n",
        "            x = one_hot_encode(x, n_chars)\n",
        "            inputs, targets = torch.from_numpy(x), torch.from_numpy(y)\n",
        "            \n",
        "            if(train_on_gpu):\n",
        "                inputs, targets = inputs.cuda(), targets.cuda()\n",
        "\n",
        "            # Creating new variables for the hidden state, otherwise\n",
        "            # we'd backprop through the entire training history\n",
        "            h = tuple([each.data for each in h])\n",
        "\n",
        "            # zero accumulated gradients\n",
        "            net.zero_grad()\n",
        "            \n",
        "            # get the output from the model\n",
        "            output, h = net(inputs, h)\n",
        "            \n",
        "            # calculate the loss and perform backprop\n",
        "            loss = criterion(output, targets.view(batch_size*seq_length))\n",
        "            loss.backward()\n",
        "            # `clip_grad_norm` helps prevent the exploding gradient problem in RNNs / LSTMs.\n",
        "            nn.utils.clip_grad_norm_(net.parameters(), clip)\n",
        "            opt.step()\n",
        "            \n",
        "            # loss stats\n",
        "            if counter % print_every == 0:\n",
        "                # Get validation loss\n",
        "                val_h = net.init_hidden(batch_size)\n",
        "                val_losses = []\n",
        "                net.eval()\n",
        "                for x, y in get_batches(val_data, batch_size, seq_length):\n",
        "                    # One-hot encode our data and make them Torch tensors\n",
        "                    x = one_hot_encode(x, n_chars)\n",
        "                    x, y = torch.from_numpy(x), torch.from_numpy(y)\n",
        "                    \n",
        "                    # Creating new variables for the hidden state, otherwise\n",
        "                    # we'd backprop through the entire training history\n",
        "                    val_h = tuple([each.data for each in val_h])\n",
        "                    \n",
        "                    inputs, targets = x, y\n",
        "                    if(train_on_gpu):\n",
        "                        inputs, targets = inputs.cuda(), targets.cuda()\n",
        "\n",
        "                    output, val_h = net(inputs, val_h)\n",
        "                    val_loss = criterion(output, targets.view(batch_size*seq_length))\n",
        "                \n",
        "                    val_losses.append(val_loss.item())\n",
        "                \n",
        "                net.train() # reset to train mode after iterationg through validation data\n",
        "                \n",
        "                print(\"Epoch: {}/{}...\".format(e+1, epochs),\n",
        "                      \"Step: {}...\".format(counter),\n",
        "                      \"Loss: {:.4f}...\".format(loss.item()),\n",
        "                      \"Val Loss: {:.4f}\".format(np.mean(val_losses)))\n"
      ],
      "execution_count": 0,
      "outputs": []
    },
    {
      "metadata": {
        "id": "6e8uMfMT72Ab",
        "colab_type": "code",
        "colab": {
          "base_uri": "https://localhost:8080/",
          "height": 102
        },
        "outputId": "7963e7a8-dda1-4ae6-93ce-72c69f55d3bb"
      },
      "cell_type": "code",
      "source": [
        "# define and print the net\n",
        "n_hidden=512\n",
        "n_layers=2\n",
        "\n",
        "net = CharRNN(chars, n_hidden, n_layers)\n",
        "print(net)\n"
      ],
      "execution_count": 19,
      "outputs": [
        {
          "output_type": "stream",
          "text": [
            "CharRNN(\n",
            "  (lstm): LSTM(83, 512, num_layers=2, batch_first=True, dropout=0.5)\n",
            "  (dropout): Dropout(p=0.5)\n",
            "  (fc): Linear(in_features=512, out_features=83, bias=True)\n",
            ")\n"
          ],
          "name": "stdout"
        }
      ]
    },
    {
      "metadata": {
        "id": "JGZJR_mj762H",
        "colab_type": "code",
        "colab": {
          "base_uri": "https://localhost:8080/",
          "height": 4743
        },
        "outputId": "c379e27d-25db-4bd2-e2c6-10e6c577902a"
      },
      "cell_type": "code",
      "source": [
        "batch_size = 128\n",
        "seq_length = 100\n",
        "n_epochs = 20 # start smaller if you are just testing initial behavior\n",
        "\n",
        "# train the model\n",
        "train(net, encoded, epochs=n_epochs, batch_size=batch_size, seq_length=seq_length, lr=0.001, print_every=10)\n"
      ],
      "execution_count": 20,
      "outputs": [
        {
          "output_type": "stream",
          "text": [
            "Epoch: 1/20... Step: 10... Loss: 3.2491... Val Loss: 3.1793\n",
            "Epoch: 1/20... Step: 20... Loss: 3.1397... Val Loss: 3.1315\n",
            "Epoch: 1/20... Step: 30... Loss: 3.1375... Val Loss: 3.1203\n",
            "Epoch: 1/20... Step: 40... Loss: 3.1142... Val Loss: 3.1189\n",
            "Epoch: 1/20... Step: 50... Loss: 3.1369... Val Loss: 3.1155\n",
            "Epoch: 1/20... Step: 60... Loss: 3.1104... Val Loss: 3.1115\n",
            "Epoch: 1/20... Step: 70... Loss: 3.0969... Val Loss: 3.1028\n",
            "Epoch: 1/20... Step: 80... Loss: 3.0943... Val Loss: 3.0806\n",
            "Epoch: 1/20... Step: 90... Loss: 3.0562... Val Loss: 3.0319\n",
            "Epoch: 1/20... Step: 100... Loss: 2.9696... Val Loss: 2.9986\n",
            "Epoch: 1/20... Step: 110... Loss: 2.8843... Val Loss: 2.8589\n",
            "Epoch: 1/20... Step: 120... Loss: 2.7255... Val Loss: 2.7477\n",
            "Epoch: 1/20... Step: 130... Loss: 2.6963... Val Loss: 2.6558\n",
            "Epoch: 2/20... Step: 140... Loss: 2.6192... Val Loss: 2.5644\n",
            "Epoch: 2/20... Step: 150... Loss: 2.5611... Val Loss: 2.5143\n",
            "Epoch: 2/20... Step: 160... Loss: 2.5081... Val Loss: 2.4701\n",
            "Epoch: 2/20... Step: 170... Loss: 2.4425... Val Loss: 2.4369\n",
            "Epoch: 2/20... Step: 180... Loss: 2.4286... Val Loss: 2.4097\n",
            "Epoch: 2/20... Step: 190... Loss: 2.3810... Val Loss: 2.3794\n",
            "Epoch: 2/20... Step: 200... Loss: 2.3779... Val Loss: 2.3634\n",
            "Epoch: 2/20... Step: 210... Loss: 2.3432... Val Loss: 2.3306\n",
            "Epoch: 2/20... Step: 220... Loss: 2.3173... Val Loss: 2.2986\n",
            "Epoch: 2/20... Step: 230... Loss: 2.3042... Val Loss: 2.2762\n",
            "Epoch: 2/20... Step: 240... Loss: 2.2823... Val Loss: 2.2489\n",
            "Epoch: 2/20... Step: 250... Loss: 2.2184... Val Loss: 2.2237\n",
            "Epoch: 2/20... Step: 260... Loss: 2.1999... Val Loss: 2.1975\n",
            "Epoch: 2/20... Step: 270... Loss: 2.2042... Val Loss: 2.1739\n",
            "Epoch: 3/20... Step: 280... Loss: 2.2034... Val Loss: 2.1541\n",
            "Epoch: 3/20... Step: 290... Loss: 2.1691... Val Loss: 2.1296\n",
            "Epoch: 3/20... Step: 300... Loss: 2.1452... Val Loss: 2.1175\n",
            "Epoch: 3/20... Step: 310... Loss: 2.1171... Val Loss: 2.0959\n",
            "Epoch: 3/20... Step: 320... Loss: 2.0821... Val Loss: 2.0723\n",
            "Epoch: 3/20... Step: 330... Loss: 2.0670... Val Loss: 2.0559\n",
            "Epoch: 3/20... Step: 340... Loss: 2.0831... Val Loss: 2.0348\n",
            "Epoch: 3/20... Step: 350... Loss: 2.0588... Val Loss: 2.0240\n",
            "Epoch: 3/20... Step: 360... Loss: 2.0040... Val Loss: 2.0023\n",
            "Epoch: 3/20... Step: 370... Loss: 2.0288... Val Loss: 1.9861\n",
            "Epoch: 3/20... Step: 380... Loss: 2.0008... Val Loss: 1.9716\n",
            "Epoch: 3/20... Step: 390... Loss: 1.9752... Val Loss: 1.9574\n",
            "Epoch: 3/20... Step: 400... Loss: 1.9418... Val Loss: 1.9425\n",
            "Epoch: 3/20... Step: 410... Loss: 1.9495... Val Loss: 1.9258\n",
            "Epoch: 4/20... Step: 420... Loss: 1.9457... Val Loss: 1.9109\n",
            "Epoch: 4/20... Step: 430... Loss: 1.9368... Val Loss: 1.8979\n",
            "Epoch: 4/20... Step: 440... Loss: 1.9242... Val Loss: 1.8936\n",
            "Epoch: 4/20... Step: 450... Loss: 1.8621... Val Loss: 1.8717\n",
            "Epoch: 4/20... Step: 460... Loss: 1.8495... Val Loss: 1.8591\n",
            "Epoch: 4/20... Step: 470... Loss: 1.8775... Val Loss: 1.8551\n",
            "Epoch: 4/20... Step: 480... Loss: 1.8661... Val Loss: 1.8348\n",
            "Epoch: 4/20... Step: 490... Loss: 1.8641... Val Loss: 1.8261\n",
            "Epoch: 4/20... Step: 500... Loss: 1.8585... Val Loss: 1.8139\n",
            "Epoch: 4/20... Step: 510... Loss: 1.8247... Val Loss: 1.8048\n",
            "Epoch: 4/20... Step: 520... Loss: 1.8505... Val Loss: 1.7968\n",
            "Epoch: 4/20... Step: 530... Loss: 1.8064... Val Loss: 1.7870\n",
            "Epoch: 4/20... Step: 540... Loss: 1.7664... Val Loss: 1.7720\n",
            "Epoch: 4/20... Step: 550... Loss: 1.8027... Val Loss: 1.7646\n",
            "Epoch: 5/20... Step: 560... Loss: 1.7761... Val Loss: 1.7539\n",
            "Epoch: 5/20... Step: 570... Loss: 1.7644... Val Loss: 1.7460\n",
            "Epoch: 5/20... Step: 580... Loss: 1.7404... Val Loss: 1.7357\n",
            "Epoch: 5/20... Step: 590... Loss: 1.7506... Val Loss: 1.7307\n",
            "Epoch: 5/20... Step: 600... Loss: 1.7383... Val Loss: 1.7222\n",
            "Epoch: 5/20... Step: 610... Loss: 1.7123... Val Loss: 1.7117\n",
            "Epoch: 5/20... Step: 620... Loss: 1.7168... Val Loss: 1.7049\n",
            "Epoch: 5/20... Step: 630... Loss: 1.7417... Val Loss: 1.6966\n",
            "Epoch: 5/20... Step: 640... Loss: 1.6996... Val Loss: 1.6883\n",
            "Epoch: 5/20... Step: 650... Loss: 1.6829... Val Loss: 1.6851\n",
            "Epoch: 5/20... Step: 660... Loss: 1.6640... Val Loss: 1.6748\n",
            "Epoch: 5/20... Step: 670... Loss: 1.6981... Val Loss: 1.6698\n",
            "Epoch: 5/20... Step: 680... Loss: 1.6945... Val Loss: 1.6632\n",
            "Epoch: 5/20... Step: 690... Loss: 1.6681... Val Loss: 1.6555\n",
            "Epoch: 6/20... Step: 700... Loss: 1.6662... Val Loss: 1.6514\n",
            "Epoch: 6/20... Step: 710... Loss: 1.6490... Val Loss: 1.6442\n",
            "Epoch: 6/20... Step: 720... Loss: 1.6383... Val Loss: 1.6372\n",
            "Epoch: 6/20... Step: 730... Loss: 1.6608... Val Loss: 1.6301\n",
            "Epoch: 6/20... Step: 740... Loss: 1.6152... Val Loss: 1.6246\n",
            "Epoch: 6/20... Step: 750... Loss: 1.6056... Val Loss: 1.6188\n",
            "Epoch: 6/20... Step: 760... Loss: 1.6447... Val Loss: 1.6161\n",
            "Epoch: 6/20... Step: 770... Loss: 1.6144... Val Loss: 1.6139\n",
            "Epoch: 6/20... Step: 780... Loss: 1.6050... Val Loss: 1.6048\n",
            "Epoch: 6/20... Step: 790... Loss: 1.5924... Val Loss: 1.5971\n",
            "Epoch: 6/20... Step: 800... Loss: 1.6217... Val Loss: 1.5952\n",
            "Epoch: 6/20... Step: 810... Loss: 1.6000... Val Loss: 1.5920\n",
            "Epoch: 6/20... Step: 820... Loss: 1.5659... Val Loss: 1.5865\n",
            "Epoch: 6/20... Step: 830... Loss: 1.6115... Val Loss: 1.5805\n",
            "Epoch: 7/20... Step: 840... Loss: 1.5638... Val Loss: 1.5804\n",
            "Epoch: 7/20... Step: 850... Loss: 1.5770... Val Loss: 1.5743\n",
            "Epoch: 7/20... Step: 860... Loss: 1.5657... Val Loss: 1.5685\n",
            "Epoch: 7/20... Step: 870... Loss: 1.5745... Val Loss: 1.5610\n",
            "Epoch: 7/20... Step: 880... Loss: 1.5725... Val Loss: 1.5554\n",
            "Epoch: 7/20... Step: 890... Loss: 1.5645... Val Loss: 1.5541\n",
            "Epoch: 7/20... Step: 900... Loss: 1.5409... Val Loss: 1.5509\n",
            "Epoch: 7/20... Step: 910... Loss: 1.5240... Val Loss: 1.5472\n",
            "Epoch: 7/20... Step: 920... Loss: 1.5439... Val Loss: 1.5442\n",
            "Epoch: 7/20... Step: 930... Loss: 1.5347... Val Loss: 1.5393\n",
            "Epoch: 7/20... Step: 940... Loss: 1.5319... Val Loss: 1.5342\n",
            "Epoch: 7/20... Step: 950... Loss: 1.5479... Val Loss: 1.5300\n",
            "Epoch: 7/20... Step: 960... Loss: 1.5455... Val Loss: 1.5293\n",
            "Epoch: 7/20... Step: 970... Loss: 1.5613... Val Loss: 1.5248\n",
            "Epoch: 8/20... Step: 980... Loss: 1.5248... Val Loss: 1.5233\n",
            "Epoch: 8/20... Step: 990... Loss: 1.5198... Val Loss: 1.5192\n",
            "Epoch: 8/20... Step: 1000... Loss: 1.5079... Val Loss: 1.5115\n",
            "Epoch: 8/20... Step: 1010... Loss: 1.5481... Val Loss: 1.5085\n",
            "Epoch: 8/20... Step: 1020... Loss: 1.5228... Val Loss: 1.5066\n",
            "Epoch: 8/20... Step: 1030... Loss: 1.5040... Val Loss: 1.5063\n",
            "Epoch: 8/20... Step: 1040... Loss: 1.5114... Val Loss: 1.5044\n",
            "Epoch: 8/20... Step: 1050... Loss: 1.4961... Val Loss: 1.5006\n",
            "Epoch: 8/20... Step: 1060... Loss: 1.4931... Val Loss: 1.4961\n",
            "Epoch: 8/20... Step: 1070... Loss: 1.5027... Val Loss: 1.4930\n",
            "Epoch: 8/20... Step: 1080... Loss: 1.4957... Val Loss: 1.4868\n",
            "Epoch: 8/20... Step: 1090... Loss: 1.4763... Val Loss: 1.4841\n",
            "Epoch: 8/20... Step: 1100... Loss: 1.4658... Val Loss: 1.4811\n",
            "Epoch: 8/20... Step: 1110... Loss: 1.4805... Val Loss: 1.4806\n",
            "Epoch: 9/20... Step: 1120... Loss: 1.4894... Val Loss: 1.4774\n",
            "Epoch: 9/20... Step: 1130... Loss: 1.4822... Val Loss: 1.4748\n",
            "Epoch: 9/20... Step: 1140... Loss: 1.4930... Val Loss: 1.4704\n",
            "Epoch: 9/20... Step: 1150... Loss: 1.5068... Val Loss: 1.4711\n",
            "Epoch: 9/20... Step: 1160... Loss: 1.4618... Val Loss: 1.4672\n",
            "Epoch: 9/20... Step: 1170... Loss: 1.4607... Val Loss: 1.4628\n",
            "Epoch: 9/20... Step: 1180... Loss: 1.4626... Val Loss: 1.4653\n",
            "Epoch: 9/20... Step: 1190... Loss: 1.4969... Val Loss: 1.4594\n",
            "Epoch: 9/20... Step: 1200... Loss: 1.4378... Val Loss: 1.4565\n",
            "Epoch: 9/20... Step: 1210... Loss: 1.4482... Val Loss: 1.4535\n",
            "Epoch: 9/20... Step: 1220... Loss: 1.4498... Val Loss: 1.4539\n",
            "Epoch: 9/20... Step: 1230... Loss: 1.4356... Val Loss: 1.4526\n",
            "Epoch: 9/20... Step: 1240... Loss: 1.4267... Val Loss: 1.4460\n",
            "Epoch: 9/20... Step: 1250... Loss: 1.4464... Val Loss: 1.4440\n",
            "Epoch: 10/20... Step: 1260... Loss: 1.4434... Val Loss: 1.4459\n",
            "Epoch: 10/20... Step: 1270... Loss: 1.4447... Val Loss: 1.4414\n",
            "Epoch: 10/20... Step: 1280... Loss: 1.4534... Val Loss: 1.4373\n",
            "Epoch: 10/20... Step: 1290... Loss: 1.4450... Val Loss: 1.4407\n",
            "Epoch: 10/20... Step: 1300... Loss: 1.4349... Val Loss: 1.4367\n",
            "Epoch: 10/20... Step: 1310... Loss: 1.4333... Val Loss: 1.4337\n",
            "Epoch: 10/20... Step: 1320... Loss: 1.4020... Val Loss: 1.4336\n",
            "Epoch: 10/20... Step: 1330... Loss: 1.4106... Val Loss: 1.4320\n",
            "Epoch: 10/20... Step: 1340... Loss: 1.4096... Val Loss: 1.4264\n",
            "Epoch: 10/20... Step: 1350... Loss: 1.3885... Val Loss: 1.4237\n",
            "Epoch: 10/20... Step: 1360... Loss: 1.4026... Val Loss: 1.4251\n",
            "Epoch: 10/20... Step: 1370... Loss: 1.3842... Val Loss: 1.4263\n",
            "Epoch: 10/20... Step: 1380... Loss: 1.4274... Val Loss: 1.4186\n",
            "Epoch: 10/20... Step: 1390... Loss: 1.4453... Val Loss: 1.4158\n",
            "Epoch: 11/20... Step: 1400... Loss: 1.4459... Val Loss: 1.4184\n",
            "Epoch: 11/20... Step: 1410... Loss: 1.4448... Val Loss: 1.4159\n",
            "Epoch: 11/20... Step: 1420... Loss: 1.4357... Val Loss: 1.4110\n",
            "Epoch: 11/20... Step: 1430... Loss: 1.4050... Val Loss: 1.4149\n",
            "Epoch: 11/20... Step: 1440... Loss: 1.4179... Val Loss: 1.4124\n",
            "Epoch: 11/20... Step: 1450... Loss: 1.3538... Val Loss: 1.4095\n",
            "Epoch: 11/20... Step: 1460... Loss: 1.3885... Val Loss: 1.4073\n",
            "Epoch: 11/20... Step: 1470... Loss: 1.3740... Val Loss: 1.4088\n",
            "Epoch: 11/20... Step: 1480... Loss: 1.3962... Val Loss: 1.4034\n",
            "Epoch: 11/20... Step: 1490... Loss: 1.3883... Val Loss: 1.4026\n",
            "Epoch: 11/20... Step: 1500... Loss: 1.3719... Val Loss: 1.4056\n",
            "Epoch: 11/20... Step: 1510... Loss: 1.3549... Val Loss: 1.4007\n",
            "Epoch: 11/20... Step: 1520... Loss: 1.3936... Val Loss: 1.3967\n",
            "Epoch: 12/20... Step: 1530... Loss: 1.4392... Val Loss: 1.3928\n",
            "Epoch: 12/20... Step: 1540... Loss: 1.3914... Val Loss: 1.3970\n",
            "Epoch: 12/20... Step: 1550... Loss: 1.3974... Val Loss: 1.3918\n",
            "Epoch: 12/20... Step: 1560... Loss: 1.4185... Val Loss: 1.3929\n",
            "Epoch: 12/20... Step: 1570... Loss: 1.3551... Val Loss: 1.3924\n",
            "Epoch: 12/20... Step: 1580... Loss: 1.3376... Val Loss: 1.3924\n",
            "Epoch: 12/20... Step: 1590... Loss: 1.3350... Val Loss: 1.3898\n",
            "Epoch: 12/20... Step: 1600... Loss: 1.3540... Val Loss: 1.3898\n",
            "Epoch: 12/20... Step: 1610... Loss: 1.3454... Val Loss: 1.3879\n",
            "Epoch: 12/20... Step: 1620... Loss: 1.3532... Val Loss: 1.3825\n",
            "Epoch: 12/20... Step: 1630... Loss: 1.3772... Val Loss: 1.3827\n",
            "Epoch: 12/20... Step: 1640... Loss: 1.3464... Val Loss: 1.3857\n",
            "Epoch: 12/20... Step: 1650... Loss: 1.3220... Val Loss: 1.3802\n",
            "Epoch: 12/20... Step: 1660... Loss: 1.3785... Val Loss: 1.3795\n",
            "Epoch: 13/20... Step: 1670... Loss: 1.3471... Val Loss: 1.3779\n",
            "Epoch: 13/20... Step: 1680... Loss: 1.3684... Val Loss: 1.3779\n",
            "Epoch: 13/20... Step: 1690... Loss: 1.3416... Val Loss: 1.3733\n",
            "Epoch: 13/20... Step: 1700... Loss: 1.3392... Val Loss: 1.3785\n",
            "Epoch: 13/20... Step: 1710... Loss: 1.3238... Val Loss: 1.3765\n",
            "Epoch: 13/20... Step: 1720... Loss: 1.3265... Val Loss: 1.3776\n",
            "Epoch: 13/20... Step: 1730... Loss: 1.3729... Val Loss: 1.3700\n",
            "Epoch: 13/20... Step: 1740... Loss: 1.3284... Val Loss: 1.3704\n",
            "Epoch: 13/20... Step: 1750... Loss: 1.3063... Val Loss: 1.3723\n",
            "Epoch: 13/20... Step: 1760... Loss: 1.3356... Val Loss: 1.3670\n",
            "Epoch: 13/20... Step: 1770... Loss: 1.3523... Val Loss: 1.3667\n",
            "Epoch: 13/20... Step: 1780... Loss: 1.3271... Val Loss: 1.3691\n",
            "Epoch: 13/20... Step: 1790... Loss: 1.3091... Val Loss: 1.3657\n",
            "Epoch: 13/20... Step: 1800... Loss: 1.3395... Val Loss: 1.3646\n",
            "Epoch: 14/20... Step: 1810... Loss: 1.3381... Val Loss: 1.3644\n",
            "Epoch: 14/20... Step: 1820... Loss: 1.3259... Val Loss: 1.3614\n",
            "Epoch: 14/20... Step: 1830... Loss: 1.3497... Val Loss: 1.3602\n",
            "Epoch: 14/20... Step: 1840... Loss: 1.2818... Val Loss: 1.3657\n",
            "Epoch: 14/20... Step: 1850... Loss: 1.2807... Val Loss: 1.3599\n",
            "Epoch: 14/20... Step: 1860... Loss: 1.3389... Val Loss: 1.3628\n",
            "Epoch: 14/20... Step: 1870... Loss: 1.3357... Val Loss: 1.3576\n",
            "Epoch: 14/20... Step: 1880... Loss: 1.3326... Val Loss: 1.3581\n",
            "Epoch: 14/20... Step: 1890... Loss: 1.3431... Val Loss: 1.3625\n",
            "Epoch: 14/20... Step: 1900... Loss: 1.3219... Val Loss: 1.3554\n",
            "Epoch: 14/20... Step: 1910... Loss: 1.3237... Val Loss: 1.3573\n",
            "Epoch: 14/20... Step: 1920... Loss: 1.3136... Val Loss: 1.3551\n",
            "Epoch: 14/20... Step: 1930... Loss: 1.2863... Val Loss: 1.3511\n",
            "Epoch: 14/20... Step: 1940... Loss: 1.3452... Val Loss: 1.3510\n",
            "Epoch: 15/20... Step: 1950... Loss: 1.3021... Val Loss: 1.3508\n",
            "Epoch: 15/20... Step: 1960... Loss: 1.3124... Val Loss: 1.3487\n",
            "Epoch: 15/20... Step: 1970... Loss: 1.3018... Val Loss: 1.3479\n",
            "Epoch: 15/20... Step: 1980... Loss: 1.3025... Val Loss: 1.3534\n",
            "Epoch: 15/20... Step: 1990... Loss: 1.2954... Val Loss: 1.3495\n",
            "Epoch: 15/20... Step: 2000... Loss: 1.2837... Val Loss: 1.3504\n",
            "Epoch: 15/20... Step: 2010... Loss: 1.3005... Val Loss: 1.3443\n",
            "Epoch: 15/20... Step: 2020... Loss: 1.3158... Val Loss: 1.3465\n",
            "Epoch: 15/20... Step: 2030... Loss: 1.2913... Val Loss: 1.3447\n",
            "Epoch: 15/20... Step: 2040... Loss: 1.3044... Val Loss: 1.3450\n",
            "Epoch: 15/20... Step: 2050... Loss: 1.2851... Val Loss: 1.3437\n",
            "Epoch: 15/20... Step: 2060... Loss: 1.2950... Val Loss: 1.3461\n",
            "Epoch: 15/20... Step: 2070... Loss: 1.3027... Val Loss: 1.3374\n",
            "Epoch: 15/20... Step: 2080... Loss: 1.2965... Val Loss: 1.3413\n",
            "Epoch: 16/20... Step: 2090... Loss: 1.3067... Val Loss: 1.3436\n",
            "Epoch: 16/20... Step: 2100... Loss: 1.2950... Val Loss: 1.3400\n",
            "Epoch: 16/20... Step: 2110... Loss: 1.2736... Val Loss: 1.3392\n",
            "Epoch: 16/20... Step: 2120... Loss: 1.2951... Val Loss: 1.3445\n",
            "Epoch: 16/20... Step: 2130... Loss: 1.2669... Val Loss: 1.3388\n",
            "Epoch: 16/20... Step: 2140... Loss: 1.2813... Val Loss: 1.3363\n",
            "Epoch: 16/20... Step: 2150... Loss: 1.3025... Val Loss: 1.3328\n",
            "Epoch: 16/20... Step: 2160... Loss: 1.2836... Val Loss: 1.3377\n",
            "Epoch: 16/20... Step: 2170... Loss: 1.2743... Val Loss: 1.3369\n",
            "Epoch: 16/20... Step: 2180... Loss: 1.2726... Val Loss: 1.3327\n",
            "Epoch: 16/20... Step: 2190... Loss: 1.2856... Val Loss: 1.3316\n",
            "Epoch: 16/20... Step: 2200... Loss: 1.2777... Val Loss: 1.3275\n",
            "Epoch: 16/20... Step: 2210... Loss: 1.2372... Val Loss: 1.3269\n",
            "Epoch: 16/20... Step: 2220... Loss: 1.2864... Val Loss: 1.3291\n",
            "Epoch: 17/20... Step: 2230... Loss: 1.2592... Val Loss: 1.3267\n",
            "Epoch: 17/20... Step: 2240... Loss: 1.2776... Val Loss: 1.3261\n",
            "Epoch: 17/20... Step: 2250... Loss: 1.2610... Val Loss: 1.3271\n",
            "Epoch: 17/20... Step: 2260... Loss: 1.2700... Val Loss: 1.3315\n",
            "Epoch: 17/20... Step: 2270... Loss: 1.2796... Val Loss: 1.3266\n",
            "Epoch: 17/20... Step: 2280... Loss: 1.2813... Val Loss: 1.3200\n",
            "Epoch: 17/20... Step: 2290... Loss: 1.2783... Val Loss: 1.3242\n",
            "Epoch: 17/20... Step: 2300... Loss: 1.2428... Val Loss: 1.3216\n",
            "Epoch: 17/20... Step: 2310... Loss: 1.2554... Val Loss: 1.3238\n",
            "Epoch: 17/20... Step: 2320... Loss: 1.2526... Val Loss: 1.3203\n",
            "Epoch: 17/20... Step: 2330... Loss: 1.2536... Val Loss: 1.3194\n",
            "Epoch: 17/20... Step: 2340... Loss: 1.2663... Val Loss: 1.3153\n",
            "Epoch: 17/20... Step: 2350... Loss: 1.2751... Val Loss: 1.3147\n",
            "Epoch: 17/20... Step: 2360... Loss: 1.2730... Val Loss: 1.3160\n",
            "Epoch: 18/20... Step: 2370... Loss: 1.2510... Val Loss: 1.3130\n",
            "Epoch: 18/20... Step: 2380... Loss: 1.2558... Val Loss: 1.3131\n",
            "Epoch: 18/20... Step: 2390... Loss: 1.2599... Val Loss: 1.3152\n",
            "Epoch: 18/20... Step: 2400... Loss: 1.2729... Val Loss: 1.3140\n",
            "Epoch: 18/20... Step: 2410... Loss: 1.2645... Val Loss: 1.3129\n",
            "Epoch: 18/20... Step: 2420... Loss: 1.2463... Val Loss: 1.3065\n",
            "Epoch: 18/20... Step: 2430... Loss: 1.2573... Val Loss: 1.3068\n",
            "Epoch: 18/20... Step: 2440... Loss: 1.2422... Val Loss: 1.3058\n",
            "Epoch: 18/20... Step: 2450... Loss: 1.2390... Val Loss: 1.3091\n",
            "Epoch: 18/20... Step: 2460... Loss: 1.2522... Val Loss: 1.3049\n",
            "Epoch: 18/20... Step: 2470... Loss: 1.2430... Val Loss: 1.3030\n",
            "Epoch: 18/20... Step: 2480... Loss: 1.2312... Val Loss: 1.3028\n",
            "Epoch: 18/20... Step: 2490... Loss: 1.2262... Val Loss: 1.2991\n",
            "Epoch: 18/20... Step: 2500... Loss: 1.2329... Val Loss: 1.2992\n",
            "Epoch: 19/20... Step: 2510... Loss: 1.2439... Val Loss: 1.2958\n",
            "Epoch: 19/20... Step: 2520... Loss: 1.2510... Val Loss: 1.3029\n",
            "Epoch: 19/20... Step: 2530... Loss: 1.2572... Val Loss: 1.3009\n",
            "Epoch: 19/20... Step: 2540... Loss: 1.2574... Val Loss: 1.3060\n",
            "Epoch: 19/20... Step: 2550... Loss: 1.2203... Val Loss: 1.3021\n",
            "Epoch: 19/20... Step: 2560... Loss: 1.2385... Val Loss: 1.2952\n",
            "Epoch: 19/20... Step: 2570... Loss: 1.2446... Val Loss: 1.2959\n",
            "Epoch: 19/20... Step: 2580... Loss: 1.2616... Val Loss: 1.2962\n",
            "Epoch: 19/20... Step: 2590... Loss: 1.2147... Val Loss: 1.2961\n",
            "Epoch: 19/20... Step: 2600... Loss: 1.2217... Val Loss: 1.2941\n",
            "Epoch: 19/20... Step: 2610... Loss: 1.2219... Val Loss: 1.2929\n",
            "Epoch: 19/20... Step: 2620... Loss: 1.2094... Val Loss: 1.2909\n",
            "Epoch: 19/20... Step: 2630... Loss: 1.2127... Val Loss: 1.2872\n",
            "Epoch: 19/20... Step: 2640... Loss: 1.2351... Val Loss: 1.2876\n",
            "Epoch: 20/20... Step: 2650... Loss: 1.2397... Val Loss: 1.2867\n",
            "Epoch: 20/20... Step: 2660... Loss: 1.2329... Val Loss: 1.2911\n",
            "Epoch: 20/20... Step: 2670... Loss: 1.2413... Val Loss: 1.2904\n",
            "Epoch: 20/20... Step: 2680... Loss: 1.2369... Val Loss: 1.2914\n",
            "Epoch: 20/20... Step: 2690... Loss: 1.2228... Val Loss: 1.2915\n",
            "Epoch: 20/20... Step: 2700... Loss: 1.2324... Val Loss: 1.2873\n",
            "Epoch: 20/20... Step: 2710... Loss: 1.2008... Val Loss: 1.2868\n",
            "Epoch: 20/20... Step: 2720... Loss: 1.1932... Val Loss: 1.2892\n",
            "Epoch: 20/20... Step: 2730... Loss: 1.1994... Val Loss: 1.2892\n",
            "Epoch: 20/20... Step: 2740... Loss: 1.1894... Val Loss: 1.2902\n",
            "Epoch: 20/20... Step: 2750... Loss: 1.2144... Val Loss: 1.2898\n",
            "Epoch: 20/20... Step: 2760... Loss: 1.1922... Val Loss: 1.2865\n",
            "Epoch: 20/20... Step: 2770... Loss: 1.2378... Val Loss: 1.2812\n",
            "Epoch: 20/20... Step: 2780... Loss: 1.2636... Val Loss: 1.2833\n"
          ],
          "name": "stdout"
        }
      ]
    },
    {
      "metadata": {
        "id": "RPKDqQdQ-nOF",
        "colab_type": "code",
        "colab": {}
      },
      "cell_type": "code",
      "source": [
        "# change the name, for saving multiple files\n",
        "model_name = 'rnn_20_epoch.net'\n",
        "\n",
        "checkpoint = {'n_hidden': net.n_hidden,\n",
        "              'n_layers': net.n_layers,\n",
        "              'state_dict': net.state_dict(),\n",
        "              'tokens': net.chars}\n",
        "\n",
        "with open(model_name, 'wb') as f:\n",
        "    torch.save(checkpoint, f)\n"
      ],
      "execution_count": 0,
      "outputs": []
    },
    {
      "metadata": {
        "id": "qkZSygjX-p_Z",
        "colab_type": "code",
        "colab": {}
      },
      "cell_type": "code",
      "source": [
        "def predict(net, char, h=None, top_k=None):\n",
        "        ''' Given a character, predict the next character.\n",
        "            Returns the predicted character and the hidden state.\n",
        "        '''\n",
        "        \n",
        "        # tensor inputs\n",
        "        x = np.array([[net.char2int[char]]])\n",
        "        x = one_hot_encode(x, len(net.chars))\n",
        "        inputs = torch.from_numpy(x)\n",
        "        \n",
        "        if(train_on_gpu):\n",
        "            inputs = inputs.cuda()\n",
        "        \n",
        "        # detach hidden state from history\n",
        "        h = tuple([each.data for each in h])\n",
        "        # get the output of the model\n",
        "        out, h = net(inputs, h)\n",
        "\n",
        "        # get the character probabilities\n",
        "        p = F.softmax(out, dim=1).data\n",
        "        if(train_on_gpu):\n",
        "            p = p.cpu() # move to cpu\n",
        "        \n",
        "        # get top characters\n",
        "        if top_k is None:\n",
        "            top_ch = np.arange(len(net.chars))\n",
        "        else:\n",
        "            p, top_ch = p.topk(top_k)\n",
        "            top_ch = top_ch.numpy().squeeze()\n",
        "        \n",
        "        # select the likely next character with some element of randomness\n",
        "        p = p.numpy().squeeze()\n",
        "        char = np.random.choice(top_ch, p=p/p.sum())\n",
        "        \n",
        "        # return the encoded value of the predicted char and the hidden state\n",
        "        return net.int2char[char], h\n"
      ],
      "execution_count": 0,
      "outputs": []
    },
    {
      "metadata": {
        "id": "GGka3nEy-uJe",
        "colab_type": "code",
        "colab": {}
      },
      "cell_type": "code",
      "source": [
        "def sample(net, size, prime='The', top_k=None):\n",
        "        \n",
        "    if(train_on_gpu):\n",
        "        net.cuda()\n",
        "    else:\n",
        "        net.cpu()\n",
        "    \n",
        "    net.eval() # eval mode\n",
        "    \n",
        "    # First off, run through the prime characters\n",
        "    chars = [ch for ch in prime]\n",
        "    h = net.init_hidden(1)\n",
        "    for ch in prime:\n",
        "        char, h = predict(net, ch, h, top_k=top_k)\n",
        "\n",
        "    chars.append(char)\n",
        "    \n",
        "    # Now pass in the previous character and get a new one\n",
        "    for ii in range(size):\n",
        "        char, h = predict(net, chars[-1], h, top_k=top_k)\n",
        "        chars.append(char)\n",
        "\n",
        "    return ''.join(chars)\n"
      ],
      "execution_count": 0,
      "outputs": []
    },
    {
      "metadata": {
        "id": "f5VByqFu-zOs",
        "colab_type": "code",
        "colab": {
          "base_uri": "https://localhost:8080/",
          "height": 306
        },
        "outputId": "5c059c19-8b10-450e-effa-5afaf4adc847"
      },
      "cell_type": "code",
      "source": [
        "print(sample(net, 1000, prime='Anna', top_k=5))\n"
      ],
      "execution_count": 24,
      "outputs": [
        {
          "output_type": "stream",
          "text": [
            "Anna he stood, the prest the\n",
            "states and a smile, so so as it was, and was not assiding that.\n",
            "\n",
            "The stranger shot and said why, the pretty of his brother, and as\n",
            "it, taking that the countess are taken up, and stood her and seeming.\n",
            "\"If he said, though it was all as the first intense is,\" this\n",
            "smole, went on, was solitide, the master of the doctors, he\n",
            "could not start about him, and he had to say to him. He felt a man that is\n",
            "warmed, but always all atoonabily to have her face of supher, and what\n",
            "had not been seen his house. There had been to say to her to be that the\n",
            "children should have been so the big at the more settled of the cormer\n",
            "closes. She saw nothing of the sould of supporess, and sound of his suffering\n",
            "with a shrill pressent and, to be the first face in the same did, was\n",
            "not all about the province with whom they were strugghing or them to say so\n",
            "at the steps with the same tears as he had seen a corclity which\n",
            "she called his hands, and to say a second sound of the\n",
            "steps with her fore\n"
          ],
          "name": "stdout"
        }
      ]
    },
    {
      "metadata": {
        "id": "lqoP1Cje-3na",
        "colab_type": "code",
        "colab": {}
      },
      "cell_type": "code",
      "source": [
        "# Here we have loaded in a model that trained over 20 epochs `rnn_20_epoch.net`\n",
        "with open('rnn_20_epoch.net', 'rb') as f:\n",
        "    checkpoint = torch.load(f)\n",
        "    \n",
        "loaded = CharRNN(checkpoint['tokens'], n_hidden=checkpoint['n_hidden'], n_layers=checkpoint['n_layers'])\n",
        "loaded.load_state_dict(checkpoint['state_dict'])"
      ],
      "execution_count": 0,
      "outputs": []
    },
    {
      "metadata": {
        "id": "jvg0dXNT-8QG",
        "colab_type": "code",
        "colab": {
          "base_uri": "https://localhost:8080/",
          "height": 714
        },
        "outputId": "ea6a2440-9190-4744-fe38-fcbc39c2d4fb"
      },
      "cell_type": "code",
      "source": [
        "# Sample using a loaded model\n",
        "print(sample(loaded, 2000, top_k=5, prime=\"And Levin said\"))\n"
      ],
      "execution_count": 26,
      "outputs": [
        {
          "output_type": "stream",
          "text": [
            "And Levin said that it was not an impartance\n",
            "and sent his feelings; so she was straight out at the property. She had stayed\n",
            "to the marreal. The priest had no one thoughts. The misures of which he\n",
            "was not alone. He could to ceas that they was to be so the first\n",
            "than as he was so from the feeling of his soul, as though he was an\n",
            "arm shown a lady.\n",
            "\n",
            "\"It's all simply?\" she said, and she went up to\n",
            "her.\n",
            "\n",
            "\"Well,\" he added, and too and staying a share of the cause was so more of a picture of the\n",
            "desire time to him with the conversation with the dark of the solence, she had\n",
            "never done at the sense at the same in the man, and was all times;\n",
            "to the more there was to see his wife. There was some\n",
            "thought of his share, why was all the misery was to be the cale, but\n",
            "still most faredry son, and as sounds, and whispered him, he\n",
            "shaded in a face, the dead, and his simply that had been\n",
            "taking the man had been\n",
            "satching a study, and to take him. But to do, to sear hom as they suddenly\n",
            "suddenly was to think when there would be the conditions about the pastion, the\n",
            "money than she did, she said with something and the commanded\n",
            "the sound of his father's silence to ask out to her son.\"\n",
            "\n",
            "The measures of the drawing room was a book and hands to all\n",
            "that the strentth of the moments and how that he had been struck it\n",
            "to the princess.\n",
            "\n",
            "\"What do you consider you see hat a little as it seems or tanding all\n",
            "that is that you can't take her, the dare all over them and must be the\n",
            "means, I can't be to the coachman and there,\" he said.\n",
            "\n",
            "\"You mean?\"\n",
            "\n",
            "\"Well, as you will be a long and see a sharl in the country as\n",
            "though I have to do the difference of most implession. I were\n",
            "saying, I see that I have always depressed that itself that is, and I would be\n",
            "the point in sorring out of the continually with the money of\n",
            "their cases when there was a mother which would be dreaming at the\n",
            "merchant. When I have such all the same, and will\n",
            "see her. I do not go to tell you to have maked to\n",
            "the side,\" he said, and she was seeing that \n"
          ],
          "name": "stdout"
        }
      ]
    }
  ]
}