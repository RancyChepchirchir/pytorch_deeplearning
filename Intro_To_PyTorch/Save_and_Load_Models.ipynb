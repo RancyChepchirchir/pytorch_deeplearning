{
  "nbformat": 4,
  "nbformat_minor": 0,
  "metadata": {
    "colab": {
      "name": "Save_and_Load_Models.ipynb",
      "version": "0.3.2",
      "provenance": [],
      "include_colab_link": true
    },
    "kernelspec": {
      "name": "python3",
      "display_name": "Python 3"
    }
  },
  "cells": [
    {
      "cell_type": "markdown",
      "metadata": {
        "id": "view-in-github",
        "colab_type": "text"
      },
      "source": [
        "<a href=\"https://colab.research.google.com/github/UrviSoni/pytorch_deeplearning/blob/master/Save_and_Load_Models.ipynb\" target=\"_parent\"><img src=\"https://colab.research.google.com/assets/colab-badge.svg\" alt=\"Open In Colab\"/></a>"
      ]
    },
    {
      "metadata": {
        "id": "Qsm30x_SPeiW",
        "colab_type": "code",
        "colab": {}
      },
      "cell_type": "code",
      "source": [
        "%matplotlib inline\n",
        "%config InlineBackend.figure_format = 'retina'\n",
        "\n",
        "import matplotlib.pyplot as plt\n",
        "\n",
        "import torch\n",
        "from torch import nn\n",
        "from torch import optim\n",
        "import torch.nn.functional as F\n",
        "from torchvision import datasets, transforms\n",
        "\n",
        "import helper\n",
        "import fc_model\n"
      ],
      "execution_count": 0,
      "outputs": []
    },
    {
      "metadata": {
        "id": "RmyjySGlPqqR",
        "colab_type": "code",
        "colab": {}
      },
      "cell_type": "code",
      "source": [
        "# Define a transform to normalize the data\n",
        "transform = transforms.Compose([transforms.ToTensor(),\n",
        "                                transforms.Normalize((0.5,), (0.5,))])\n",
        "# Download and load the training data\n",
        "trainset = datasets.FashionMNIST('F_MNIST_data/', download=True, train=True, transform=transform)\n",
        "trainloader = torch.utils.data.DataLoader(trainset, batch_size=64, shuffle=True)\n",
        "\n",
        "# Download and load the test data\n",
        "testset = datasets.FashionMNIST('F_MNIST_data/', download=True, train=False, transform=transform)\n",
        "testloader = torch.utils.data.DataLoader(testset, batch_size=64, shuffle=True)\n"
      ],
      "execution_count": 0,
      "outputs": []
    },
    {
      "metadata": {
        "id": "On_dn-6SPuMR",
        "colab_type": "code",
        "outputId": "8ae37939-b853-4e16-eede-8140da608be0",
        "colab": {
          "base_uri": "https://localhost:8080/",
          "height": 204
        }
      },
      "cell_type": "code",
      "source": [
        "!wget  https://raw.githubusercontent.com/udacity/deep-learning-v2-pytorch/master/intro-to-pytorch/helper.py"
      ],
      "execution_count": 9,
      "outputs": [
        {
          "output_type": "stream",
          "text": [
            "--2018-12-23 09:39:46--  https://raw.githubusercontent.com/udacity/deep-learning-v2-pytorch/master/intro-to-pytorch/helper.py\n",
            "Resolving raw.githubusercontent.com (raw.githubusercontent.com)... 151.101.0.133, 151.101.64.133, 151.101.128.133, ...\n",
            "Connecting to raw.githubusercontent.com (raw.githubusercontent.com)|151.101.0.133|:443... connected.\n",
            "HTTP request sent, awaiting response... 200 OK\n",
            "Length: 2813 (2.7K) [text/plain]\n",
            "Saving to: ‘helper.py.4’\n",
            "\n",
            "\rhelper.py.4           0%[                    ]       0  --.-KB/s               \rhelper.py.4         100%[===================>]   2.75K  --.-KB/s    in 0s      \n",
            "\n",
            "2018-12-23 09:39:46 (46.7 MB/s) - ‘helper.py.4’ saved [2813/2813]\n",
            "\n"
          ],
          "name": "stdout"
        }
      ]
    },
    {
      "metadata": {
        "id": "wnTh1pidPuM_",
        "colab_type": "code",
        "outputId": "74712651-8776-4ece-eb19-8bb838f97e3d",
        "colab": {
          "base_uri": "https://localhost:8080/",
          "height": 248
        }
      },
      "cell_type": "code",
      "source": [
        "image, label = next(iter(trainloader))\n",
        "helper.imshow(image[0,:]);\n",
        "plt.grid(False)\n"
      ],
      "execution_count": 14,
      "outputs": [
        {
          "output_type": "display_data",
          "data": {
            "image/png": "[encoded data removed]",
            "text/plain": [
              "<matplotlib.figure.Figure at 0x7f49a900d438>"
            ]
          },
          "metadata": {
            "tags": [],
            "image/png": {
              "width": 231,
              "height": 231
            }
          }
        }
      ]
    },
    {
      "metadata": {
        "id": "wwfBci5Dbxxy",
        "colab_type": "code",
        "colab": {}
      },
      "cell_type": "code",
      "source": [
        "# Create the network, define the criterion and optimizer\n",
        "\n",
        "model = fc_model.Network(784, 10, [512, 256, 128])\n",
        "criterion = nn.NLLLoss()\n",
        "optimizer = optim.Adam(model.parameters(), lr=0.001)"
      ],
      "execution_count": 0,
      "outputs": []
    },
    {
      "metadata": {
        "id": "HqC_bdXZb0BM",
        "colab_type": "code",
        "colab": {
          "base_uri": "https://localhost:8080/",
          "height": 799
        },
        "outputId": "f7ba84b5-170c-4c1c-957a-9058b9144ce1"
      },
      "cell_type": "code",
      "source": [
        "fc_model.train(model, trainloader, testloader, criterion, optimizer, epochs=2)\n"
      ],
      "execution_count": 12,
      "outputs": [
        {
          "output_type": "stream",
          "text": [
            "Epoch: 1/2..  Training Loss: 1.668..  Test Loss: 0.965..  Test Accuracy: 0.649\n",
            "Epoch: 1/2..  Training Loss: 1.007..  Test Loss: 0.761..  Test Accuracy: 0.696\n",
            "Epoch: 1/2..  Training Loss: 0.861..  Test Loss: 0.674..  Test Accuracy: 0.743\n",
            "Epoch: 1/2..  Training Loss: 0.791..  Test Loss: 0.627..  Test Accuracy: 0.759\n",
            "Epoch: 1/2..  Training Loss: 0.753..  Test Loss: 0.642..  Test Accuracy: 0.744\n",
            "Epoch: 1/2..  Training Loss: 0.709..  Test Loss: 0.602..  Test Accuracy: 0.771\n",
            "Epoch: 1/2..  Training Loss: 0.707..  Test Loss: 0.584..  Test Accuracy: 0.781\n",
            "Epoch: 1/2..  Training Loss: 0.668..  Test Loss: 0.562..  Test Accuracy: 0.791\n",
            "Epoch: 1/2..  Training Loss: 0.658..  Test Loss: 0.596..  Test Accuracy: 0.780\n",
            "Epoch: 1/2..  Training Loss: 0.626..  Test Loss: 0.556..  Test Accuracy: 0.797\n",
            "Epoch: 1/2..  Training Loss: 0.660..  Test Loss: 0.536..  Test Accuracy: 0.800\n",
            "Epoch: 1/2..  Training Loss: 0.609..  Test Loss: 0.527..  Test Accuracy: 0.806\n",
            "Epoch: 1/2..  Training Loss: 0.635..  Test Loss: 0.532..  Test Accuracy: 0.807\n",
            "Epoch: 1/2..  Training Loss: 0.592..  Test Loss: 0.528..  Test Accuracy: 0.804\n",
            "Epoch: 1/2..  Training Loss: 0.582..  Test Loss: 0.509..  Test Accuracy: 0.809\n",
            "Epoch: 1/2..  Training Loss: 0.595..  Test Loss: 0.504..  Test Accuracy: 0.813\n",
            "Epoch: 1/2..  Training Loss: 0.598..  Test Loss: 0.529..  Test Accuracy: 0.807\n",
            "Epoch: 1/2..  Training Loss: 0.607..  Test Loss: 0.493..  Test Accuracy: 0.818\n",
            "Epoch: 1/2..  Training Loss: 0.583..  Test Loss: 0.510..  Test Accuracy: 0.808\n",
            "Epoch: 1/2..  Training Loss: 0.592..  Test Loss: 0.490..  Test Accuracy: 0.824\n",
            "Epoch: 1/2..  Training Loss: 0.581..  Test Loss: 0.487..  Test Accuracy: 0.821\n",
            "Epoch: 1/2..  Training Loss: 0.589..  Test Loss: 0.470..  Test Accuracy: 0.824\n",
            "Epoch: 1/2..  Training Loss: 0.575..  Test Loss: 0.490..  Test Accuracy: 0.827\n",
            "Epoch: 2/2..  Training Loss: 0.603..  Test Loss: 0.476..  Test Accuracy: 0.825\n",
            "Epoch: 2/2..  Training Loss: 0.573..  Test Loss: 0.474..  Test Accuracy: 0.824\n",
            "Epoch: 2/2..  Training Loss: 0.537..  Test Loss: 0.479..  Test Accuracy: 0.824\n",
            "Epoch: 2/2..  Training Loss: 0.552..  Test Loss: 0.476..  Test Accuracy: 0.834\n",
            "Epoch: 2/2..  Training Loss: 0.519..  Test Loss: 0.468..  Test Accuracy: 0.829\n",
            "Epoch: 2/2..  Training Loss: 0.536..  Test Loss: 0.469..  Test Accuracy: 0.829\n",
            "Epoch: 2/2..  Training Loss: 0.515..  Test Loss: 0.477..  Test Accuracy: 0.828\n",
            "Epoch: 2/2..  Training Loss: 0.511..  Test Loss: 0.459..  Test Accuracy: 0.830\n",
            "Epoch: 2/2..  Training Loss: 0.544..  Test Loss: 0.470..  Test Accuracy: 0.827\n",
            "Epoch: 2/2..  Training Loss: 0.566..  Test Loss: 0.462..  Test Accuracy: 0.830\n",
            "Epoch: 2/2..  Training Loss: 0.542..  Test Loss: 0.464..  Test Accuracy: 0.830\n",
            "Epoch: 2/2..  Training Loss: 0.505..  Test Loss: 0.476..  Test Accuracy: 0.828\n",
            "Epoch: 2/2..  Training Loss: 0.549..  Test Loss: 0.459..  Test Accuracy: 0.829\n",
            "Epoch: 2/2..  Training Loss: 0.534..  Test Loss: 0.458..  Test Accuracy: 0.836\n",
            "Epoch: 2/2..  Training Loss: 0.536..  Test Loss: 0.459..  Test Accuracy: 0.835\n",
            "Epoch: 2/2..  Training Loss: 0.516..  Test Loss: 0.478..  Test Accuracy: 0.827\n",
            "Epoch: 2/2..  Training Loss: 0.526..  Test Loss: 0.443..  Test Accuracy: 0.841\n",
            "Epoch: 2/2..  Training Loss: 0.508..  Test Loss: 0.464..  Test Accuracy: 0.828\n",
            "Epoch: 2/2..  Training Loss: 0.512..  Test Loss: 0.442..  Test Accuracy: 0.835\n",
            "Epoch: 2/2..  Training Loss: 0.532..  Test Loss: 0.448..  Test Accuracy: 0.836\n",
            "Epoch: 2/2..  Training Loss: 0.557..  Test Loss: 0.448..  Test Accuracy: 0.835\n",
            "Epoch: 2/2..  Training Loss: 0.513..  Test Loss: 0.464..  Test Accuracy: 0.828\n",
            "Epoch: 2/2..  Training Loss: 0.553..  Test Loss: 0.443..  Test Accuracy: 0.833\n"
          ],
          "name": "stdout"
        }
      ]
    },
    {
      "metadata": {
        "id": "QYVz9qJKfLff",
        "colab_type": "code",
        "colab": {
          "base_uri": "https://localhost:8080/",
          "height": 292
        },
        "outputId": "9bc09ce7-99c5-4d93-db1d-d1771fa6e3c7"
      },
      "cell_type": "code",
      "source": [
        "print(\"Our model: \\n\\n\", model, '\\n')\n",
        "print(\"The state dict keys: \\n\\n\", model.state_dict().keys())\n"
      ],
      "execution_count": 15,
      "outputs": [
        {
          "output_type": "stream",
          "text": [
            "Our model: \n",
            "\n",
            " Network(\n",
            "  (hidden_layers): ModuleList(\n",
            "    (0): Linear(in_features=784, out_features=512, bias=True)\n",
            "    (1): Linear(in_features=512, out_features=256, bias=True)\n",
            "    (2): Linear(in_features=256, out_features=128, bias=True)\n",
            "  )\n",
            "  (output): Linear(in_features=128, out_features=10, bias=True)\n",
            "  (dropout): Dropout(p=0.5)\n",
            ") \n",
            "\n",
            "The state dict keys: \n",
            "\n",
            " odict_keys(['hidden_layers.0.weight', 'hidden_layers.0.bias', 'hidden_layers.1.weight', 'hidden_layers.1.bias', 'hidden_layers.2.weight', 'hidden_layers.2.bias', 'output.weight', 'output.bias'])\n"
          ],
          "name": "stdout"
        }
      ]
    },
    {
      "metadata": {
        "id": "RIyTl0zZf2yz",
        "colab_type": "code",
        "colab": {}
      },
      "cell_type": "code",
      "source": [
        "torch.save(model.state_dict(), 'checkpoint.pth')\n"
      ],
      "execution_count": 0,
      "outputs": []
    },
    {
      "metadata": {
        "id": "M2fVt-spf5PT",
        "colab_type": "code",
        "colab": {
          "base_uri": "https://localhost:8080/",
          "height": 54
        },
        "outputId": "a0cd489c-455b-4ea0-9767-443a93e617a2"
      },
      "cell_type": "code",
      "source": [
        "state_dict = torch.load('checkpoint.pth')\n",
        "print(state_dict.keys())\n"
      ],
      "execution_count": 18,
      "outputs": [
        {
          "output_type": "stream",
          "text": [
            "odict_keys(['hidden_layers.0.weight', 'hidden_layers.0.bias', 'hidden_layers.1.weight', 'hidden_layers.1.bias', 'hidden_layers.2.weight', 'hidden_layers.2.bias', 'output.weight', 'output.bias'])\n"
          ],
          "name": "stdout"
        }
      ]
    },
    {
      "metadata": {
        "id": "SrCBWUH_goQ0",
        "colab_type": "code",
        "colab": {}
      },
      "cell_type": "code",
      "source": [
        "model.load_state_dict(state_dict)\n"
      ],
      "execution_count": 0,
      "outputs": []
    },
    {
      "metadata": {
        "id": "0tTLm2GUgt-G",
        "colab_type": "code",
        "colab": {
          "base_uri": "https://localhost:8080/",
          "height": 455
        },
        "outputId": "550785e8-fd77-4c45-b60a-f71b4800d751"
      },
      "cell_type": "code",
      "source": [
        "# Try this\n",
        "model = fc_model.Network(784, 10, [400, 200, 100])\n",
        "# This will throw an error because the tensor sizes are wrong!\n",
        "model.load_state_dict(state_dict)\n"
      ],
      "execution_count": 20,
      "outputs": [
        {
          "output_type": "error",
          "ename": "RuntimeError",
          "evalue": "ignored",
          "traceback": [
            "\u001b[0;31m---------------------------------------------------------------------------\u001b[0m",
            "\u001b[0;31mRuntimeError\u001b[0m                              Traceback (most recent call last)",
            "\u001b[0;32m<ipython-input-20-cc11e1013989>\u001b[0m in \u001b[0;36m<module>\u001b[0;34m()\u001b[0m\n\u001b[1;32m      1\u001b[0m \u001b[0mmodel\u001b[0m \u001b[0;34m=\u001b[0m \u001b[0mfc_model\u001b[0m\u001b[0;34m.\u001b[0m\u001b[0mNetwork\u001b[0m\u001b[0;34m(\u001b[0m\u001b[0;36m784\u001b[0m\u001b[0;34m,\u001b[0m \u001b[0;36m10\u001b[0m\u001b[0;34m,\u001b[0m \u001b[0;34m[\u001b[0m\u001b[0;36m400\u001b[0m\u001b[0;34m,\u001b[0m \u001b[0;36m200\u001b[0m\u001b[0;34m,\u001b[0m \u001b[0;36m100\u001b[0m\u001b[0;34m]\u001b[0m\u001b[0;34m)\u001b[0m\u001b[0;34m\u001b[0m\u001b[0;34m\u001b[0m\u001b[0m\n\u001b[1;32m      2\u001b[0m \u001b[0;31m# This will throw an error because the tensor sizes are wrong!\u001b[0m\u001b[0;34m\u001b[0m\u001b[0;34m\u001b[0m\u001b[0;34m\u001b[0m\u001b[0m\n\u001b[0;32m----> 3\u001b[0;31m \u001b[0mmodel\u001b[0m\u001b[0;34m.\u001b[0m\u001b[0mload_state_dict\u001b[0m\u001b[0;34m(\u001b[0m\u001b[0mstate_dict\u001b[0m\u001b[0;34m)\u001b[0m\u001b[0;34m\u001b[0m\u001b[0;34m\u001b[0m\u001b[0m\n\u001b[0m",
            "\u001b[0;32m/usr/local/lib/python3.6/dist-packages/torch/nn/modules/module.py\u001b[0m in \u001b[0;36mload_state_dict\u001b[0;34m(self, state_dict, strict)\u001b[0m\n\u001b[1;32m    717\u001b[0m         \u001b[0;32mif\u001b[0m \u001b[0mlen\u001b[0m\u001b[0;34m(\u001b[0m\u001b[0merror_msgs\u001b[0m\u001b[0;34m)\u001b[0m \u001b[0;34m>\u001b[0m \u001b[0;36m0\u001b[0m\u001b[0;34m:\u001b[0m\u001b[0;34m\u001b[0m\u001b[0;34m\u001b[0m\u001b[0m\n\u001b[1;32m    718\u001b[0m             raise RuntimeError('Error(s) in loading state_dict for {}:\\n\\t{}'.format(\n\u001b[0;32m--> 719\u001b[0;31m                                self.__class__.__name__, \"\\n\\t\".join(error_msgs)))\n\u001b[0m\u001b[1;32m    720\u001b[0m \u001b[0;34m\u001b[0m\u001b[0m\n\u001b[1;32m    721\u001b[0m     \u001b[0;32mdef\u001b[0m \u001b[0mparameters\u001b[0m\u001b[0;34m(\u001b[0m\u001b[0mself\u001b[0m\u001b[0;34m)\u001b[0m\u001b[0;34m:\u001b[0m\u001b[0;34m\u001b[0m\u001b[0;34m\u001b[0m\u001b[0m\n",
            "\u001b[0;31mRuntimeError\u001b[0m: Error(s) in loading state_dict for Network:\n\tsize mismatch for hidden_layers.0.weight: copying a param of torch.Size([400, 784]) from checkpoint, where the shape is torch.Size([512, 784]) in current model.\n\tsize mismatch for hidden_layers.0.bias: copying a param of torch.Size([400]) from checkpoint, where the shape is torch.Size([512]) in current model.\n\tsize mismatch for hidden_layers.1.weight: copying a param of torch.Size([200, 400]) from checkpoint, where the shape is torch.Size([256, 512]) in current model.\n\tsize mismatch for hidden_layers.1.bias: copying a param of torch.Size([200]) from checkpoint, where the shape is torch.Size([256]) in current model.\n\tsize mismatch for hidden_layers.2.weight: copying a param of torch.Size([100, 200]) from checkpoint, where the shape is torch.Size([128, 256]) in current model.\n\tsize mismatch for hidden_layers.2.bias: copying a param of torch.Size([100]) from checkpoint, where the shape is torch.Size([128]) in current model.\n\tsize mismatch for output.weight: copying a param of torch.Size([10, 100]) from checkpoint, where the shape is torch.Size([10, 128]) in current model."
          ]
        }
      ]
    },
    {
      "metadata": {
        "id": "PRdpffGgh_Gn",
        "colab_type": "code",
        "colab": {}
      },
      "cell_type": "code",
      "source": [
        "checkpoint = {'input_size': 784,\n",
        "              'output_size': 10,\n",
        "              'hidden_layers': [each.out_features for each in model.hidden_layers],\n",
        "              'state_dict': model.state_dict()}\n",
        "\n",
        "torch.save(checkpoint, 'checkpoint.pth')\n"
      ],
      "execution_count": 0,
      "outputs": []
    },
    {
      "metadata": {
        "id": "Qd3UCnI6iEWN",
        "colab_type": "code",
        "colab": {}
      },
      "cell_type": "code",
      "source": [
        "def load_checkpoint(filepath):\n",
        "    checkpoint = torch.load(filepath)\n",
        "    model = fc_model.Network(checkpoint['input_size'],\n",
        "                             checkpoint['output_size'],\n",
        "                             checkpoint['hidden_layers'])\n",
        "    model.load_state_dict(checkpoint['state_dict'])\n",
        "    \n",
        "    return model"
      ],
      "execution_count": 0,
      "outputs": []
    },
    {
      "metadata": {
        "id": "jUiYHEyIidma",
        "colab_type": "code",
        "colab": {
          "base_uri": "https://localhost:8080/",
          "height": 170
        },
        "outputId": "7ee5842a-8a34-42ef-a64c-c76a6c7ee05a"
      },
      "cell_type": "code",
      "source": [
        "model = load_checkpoint('checkpoint.pth')\n",
        "print(model)"
      ],
      "execution_count": 24,
      "outputs": [
        {
          "output_type": "stream",
          "text": [
            "Network(\n",
            "  (hidden_layers): ModuleList(\n",
            "    (0): Linear(in_features=784, out_features=400, bias=True)\n",
            "    (1): Linear(in_features=400, out_features=200, bias=True)\n",
            "    (2): Linear(in_features=200, out_features=100, bias=True)\n",
            "  )\n",
            "  (output): Linear(in_features=100, out_features=10, bias=True)\n",
            "  (dropout): Dropout(p=0.5)\n",
            ")\n"
          ],
          "name": "stdout"
        }
      ]
    }
  ]
}