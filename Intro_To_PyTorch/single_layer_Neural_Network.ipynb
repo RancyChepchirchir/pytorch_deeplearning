{
  "nbformat": 4,
  "nbformat_minor": 0,
  "metadata": {
    "colab": {
      "name": "single_layer_Neural_Network.ipynb",
      "version": "0.3.2",
      "provenance": [],
      "include_colab_link": true
    },
    "kernelspec": {
      "name": "python3",
      "display_name": "Python 3"
    }
  },
  "cells": [
    {
      "cell_type": "markdown",
      "metadata": {
        "id": "view-in-github",
        "colab_type": "text"
      },
      "source": [
        "<a href=\"https://colab.research.google.com/github/UrviSoni/pytorch_deeplearning/blob/master/single_layer_Neural_Network.ipynb\" target=\"_parent\"><img src=\"https://colab.research.google.com/assets/colab-badge.svg\" alt=\"Open In Colab\"/></a>"
      ]
    },
    {
      "metadata": {
        "id": "-1vwgmJPLV6A",
        "colab_type": "code",
        "colab": {
          "base_uri": "https://localhost:8080/",
          "height": 51
        },
        "outputId": "5f97d2f4-deb0-423d-c5db-d38635e0dca3"
      },
      "cell_type": "code",
      "source": [
        "import torch\n",
        "def activation(x):\n",
        "  \"\"\"Sigmoid activation function\n",
        "      \n",
        "      Arguments\n",
        "      _________\n",
        "      x: torch.Tensor\n",
        "  \"\"\"\n",
        "  return 1/(1+torch.exp(-x))\n",
        "\n",
        "### Generate some data\n",
        "torch.manual_seed(7) # Set the random seed so things are predicatble\n",
        "\n",
        "# Features are 5 random noramal variable\n",
        "features = torch.randn((1,5))\n",
        "#True Weight for our data, random normal variables again\n",
        "weights = torch.randn_like(features)\n",
        "# and a true bias term\n",
        "bias = torch.randn((1,1))\n",
        "\n",
        "### Solution\n",
        "\n",
        "# Now make our labels from our data and true weights\n",
        "\n",
        "y = activation(torch.sum(features * weights) + bias)\n",
        "print(y)\n",
        "\n",
        "y = activation((features * weights).sum() + bias)\n",
        "print(y)\n"
      ],
      "execution_count": 28,
      "outputs": [
        {
          "output_type": "stream",
          "text": [
            "tensor([[0.1595]])\n",
            "tensor([[0.1595]])\n"
          ],
          "name": "stdout"
        }
      ]
    }
  ]
}