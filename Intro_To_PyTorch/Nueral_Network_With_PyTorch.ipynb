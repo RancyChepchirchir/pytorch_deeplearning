{
  "nbformat": 4,
  "nbformat_minor": 0,
  "metadata": {
    "colab": {
      "name": "Nueral_Network_With_PyTorch.ipynb",
      "version": "0.3.2",
      "provenance": [],
      "include_colab_link": true
    },
    "kernelspec": {
      "name": "python3",
      "display_name": "Python 3"
    }
  },
  "cells": [
    {
      "cell_type": "markdown",
      "metadata": {
        "id": "view-in-github",
        "colab_type": "text"
      },
      "source": [
        "<a href=\"https://colab.research.google.com/github/UrviSoni/pytorch_deeplearning/blob/master/Nueral_Network_With_PyTorch.ipynb\" target=\"_parent\"><img src=\"https://colab.research.google.com/assets/colab-badge.svg\" alt=\"Open In Colab\"/></a>"
      ]
    },
    {
      "metadata": {
        "id": "2-fiwEq9QkbQ",
        "colab_type": "code",
        "colab": {}
      },
      "cell_type": "code",
      "source": [
        "import numpy as np\n",
        "import torch\n",
        "import helper\n",
        "import matplotlib.pyplot as plt\n",
        "from torchvision import datasets, transforms"
      ],
      "execution_count": 0,
      "outputs": []
    },
    {
      "metadata": {
        "id": "2Dp_NomkRnOW",
        "colab_type": "code",
        "colab": {}
      },
      "cell_type": "code",
      "source": [
        "\n",
        "#Define transform to normalize the data\n",
        "\n",
        "data_transform = transforms.Compose([transforms.ToTensor(), transforms.Normalize((0.5,0.5,0.5), (0.5,0.5,0.5)),])\n",
        "\n",
        "#Download and load the training data\n",
        "trainset = datasets.MNIST('MNIST_data/', download=True, train=True, transform=transform)\n",
        "trainloader = torch.utils.data.DataLoader(trainset, batch_size=64, shuffle=True)"
      ],
      "execution_count": 0,
      "outputs": []
    },
    {
      "metadata": {
        "id": "_eH5m87hTfm_",
        "colab_type": "code",
        "colab": {
          "base_uri": "https://localhost:8080/",
          "height": 68
        },
        "outputId": "f9524a63-4af7-44df-a321-e8d884d841ca"
      },
      "cell_type": "code",
      "source": [
        "dataiter = iter(trainloader)\n",
        "images, labels = dataiter.next()\n",
        "print(type(images))\n",
        "print(images.shape)\n",
        "print(labels.shape)"
      ],
      "execution_count": 64,
      "outputs": [
        {
          "output_type": "stream",
          "text": [
            "<class 'torch.Tensor'>\n",
            "torch.Size([64, 1, 28, 28])\n",
            "torch.Size([64])\n"
          ],
          "name": "stdout"
        }
      ]
    },
    {
      "metadata": {
        "id": "BtpIYJd4Ydef",
        "colab_type": "code",
        "colab": {
          "base_uri": "https://localhost:8080/",
          "height": 347
        },
        "outputId": "6b1ea8c1-b0c9-4b5c-c9b7-360b257d083f"
      },
      "cell_type": "code",
      "source": [
        "plt.imshow(images[1].numpy().squeeze(), cmap='Greys_r');"
      ],
      "execution_count": 65,
      "outputs": [
        {
          "output_type": "display_data",
          "data": {
            "image/png": "[encoded data removed]",
            "text/plain": [
              "<matplotlib.figure.Figure at 0x7f886cd7deb8>"
            ]
          },
          "metadata": {
            "tags": []
          }
        }
      ]
    },
    {
      "metadata": {
        "id": "_mxsPOvcsfDG",
        "colab_type": "code",
        "colab": {
          "base_uri": "https://localhost:8080/",
          "height": 2210
        },
        "outputId": "ecca789b-b213-49c0-d31b-d96f4d7c0bfe"
      },
      "cell_type": "code",
      "source": [
        "## Solution\n",
        "\n",
        "def activation(x):\n",
        "  return 1/(1+torch.exp(-x))\n",
        "\n",
        "# Flatten the input images\n",
        "inputs = images.view(images.shape[0], -1)\n",
        "\n",
        "# Create Paramters\n",
        "w1 = torch.randn(784, 256)\n",
        "b1 = torch.randn(256)\n",
        "\n",
        "w2 = torch.randn(256, 10)\n",
        "b2 = torch.randn(10)\n",
        "\n",
        "h = activation(torch.mm(inputs, w1) + b1)\n",
        "\n",
        "out = torch.mm(h, w2) + b2\n",
        "print(out.shape)\n",
        "print(out)\n"
      ],
      "execution_count": 66,
      "outputs": [
        {
          "output_type": "stream",
          "text": [
            "torch.Size([64, 10])\n",
            "tensor([[ -5.1230,   5.4330,  12.6945,  -4.3191,  10.6914,  -9.7704,  -0.7399,\n",
            "           9.4534, -13.1986, -13.5462],\n",
            "        [  1.5110,   0.1349,   5.8488,  -1.6871,   5.7435,  -9.0587,  -6.3381,\n",
            "          15.9331,  -8.4358,  -7.6676],\n",
            "        [  2.8951,  -2.6998,  12.1163,  -0.6311,   6.2827,   0.1936, -12.9700,\n",
            "           6.2398, -16.2262, -13.1249],\n",
            "        [-14.2283,   2.7820,   9.6109,  -8.5818,  -2.0159, -10.9514, -10.6435,\n",
            "          11.1473, -14.1327, -12.5275],\n",
            "        [-10.2844,  10.3430,  10.1808, -12.0144,   0.7533,  -4.8054, -12.6608,\n",
            "          18.0525,  -2.0814,  -9.4332],\n",
            "        [-11.8234,   9.8640,   6.1489,  -4.4788,   8.1927,  -8.1177, -15.2522,\n",
            "           9.1745, -22.3787, -11.5569],\n",
            "        [ -0.0882,   2.8237,   5.0268,  -7.4132,   2.0379,  -3.6669,   3.2241,\n",
            "          16.3999,  -8.7998, -10.5911],\n",
            "        [ -4.2034,   6.5360,  12.3233,  -9.6202,   0.1140,  -6.0325,  -5.6705,\n",
            "          17.9731, -13.9196,  -9.7382],\n",
            "        [ -2.7405,   6.4326,   9.3558,  -1.2407,   4.8167,  -4.3863,   5.6381,\n",
            "           7.9336,  -5.7780,  -8.8349],\n",
            "        [ -9.2098,  -0.1422,   6.5300,   2.9517,   1.7034,  -0.2186,  -0.6191,\n",
            "          19.4037, -14.6278, -13.5349],\n",
            "        [ -3.9616,   5.8835,   7.7481,  -4.4916,   2.2174,   1.0478,  -7.7146,\n",
            "          18.0099,  -1.0353, -13.4679],\n",
            "        [ -8.0842,  -1.1091,  -1.6883,  -3.5451,   5.7730, -16.9014,  -8.4768,\n",
            "          12.8169, -12.9273, -11.8167],\n",
            "        [  3.2599,   8.5807,  16.1904, -16.0848,   0.5765,  -8.6850,  -4.7500,\n",
            "          15.9176, -10.4683,  -9.5394],\n",
            "        [ -6.3299,   0.4523,   7.2823,  -3.9386,  13.9776,  -3.1414,  -3.4465,\n",
            "           4.3685, -15.9004, -11.3303],\n",
            "        [ -0.4919,   7.4729,  13.2042,   4.2521,   6.0908,   1.3349, -11.1358,\n",
            "          10.3349,  -8.6839,  -7.2159],\n",
            "        [ -8.8417,  -0.7198,   2.7020,   2.2254,  -1.3483,  -8.8758,  -8.4818,\n",
            "          11.9285,  -0.0235,  -6.6979],\n",
            "        [ -0.6508,  12.9113,  14.8307,  -7.7026,   5.8356,   1.8462,  -2.1072,\n",
            "          12.0768,  -7.2001,  -9.2165],\n",
            "        [ -9.4505,   0.2761,   4.9337,  -5.0732,   2.3268,  -7.8582,  -3.4855,\n",
            "          17.4649,  -7.3262, -10.2195],\n",
            "        [-11.2701,  -3.2233,   4.3340,  -7.0480,   3.8639,  -6.5021,  -3.8545,\n",
            "          21.4606,  -7.0912,  -9.8230],\n",
            "        [ -5.6785,   2.6350,   3.9880,  -3.0117,   4.1808,  -9.2790,  -3.5730,\n",
            "          14.5108,  -4.8429, -10.9565],\n",
            "        [ -0.7117,  -5.8544,  14.8130,  -8.3639,   6.4066,   1.5208, -10.8042,\n",
            "          15.0989, -13.0264, -16.7862],\n",
            "        [-11.8524,   0.1700,  11.1803,   1.7373,  -3.6735,  -3.4128, -16.0642,\n",
            "          11.2522,  -2.6845,  -9.6506],\n",
            "        [ -3.6503,   1.1225,   9.2965,  -2.0075,  -5.1406,  -4.1066,   5.7489,\n",
            "          16.2254,  -3.6270, -10.3418],\n",
            "        [-15.1612,   2.5302,  10.6164,  -7.3676,   3.1971,  -4.6712,   1.1198,\n",
            "          15.4547, -11.3209, -14.4729],\n",
            "        [ -9.7774,   5.0677,   5.7227,  -8.3026,   6.0349,  -0.7430,   0.6160,\n",
            "          16.2217, -13.0660, -11.0088],\n",
            "        [ -1.8203,   6.6463,  12.7630,  -8.7729,   2.0016,  -7.2408,  -6.9159,\n",
            "           8.8963,  -8.6545,  -4.2174],\n",
            "        [ -6.2744,  11.7530,  13.1011,  -5.9722,  12.0350,   1.3533,   2.1447,\n",
            "          11.0526, -17.6299,  -9.8077],\n",
            "        [ -3.9319,  -6.7362,  13.9237,  -3.8802,  -2.6426,  -0.0036,   0.3526,\n",
            "          10.1767, -10.6614,  -9.5934],\n",
            "        [ -5.7032,   2.5354,   4.8096,   1.5148,  -2.1905, -10.6909,  -4.5502,\n",
            "           4.1316, -13.1346,  -2.0498],\n",
            "        [ -3.0743,   6.4871,   9.6780, -11.4106,  -0.7108,  -7.3489,  -4.1306,\n",
            "          17.3047,  -2.1683, -15.7606],\n",
            "        [ -5.5046,  -0.9060,   4.6547, -12.0599,   0.1597,  -0.1342,  -0.0607,\n",
            "          16.0142,  -8.7161, -16.7507],\n",
            "        [-12.1619,  -1.4090,   8.0798,   3.4248,  -5.5251,  -5.8861,  -0.8132,\n",
            "          16.9408,  -6.4626, -12.1888],\n",
            "        [ -3.7753,   3.4805,  11.3079,  -6.2097,   7.1966,  -6.2153,  -7.5458,\n",
            "           6.2792,  -8.9654, -15.4608],\n",
            "        [-10.1339,   6.4878,   6.7907,  -5.9150,   8.8590,  -8.7288,  -7.3462,\n",
            "          12.4695,  -2.4396,  -8.3199],\n",
            "        [-17.4170,   1.8787,   6.6662,   3.2839,   3.2386,  -6.8323,   4.8829,\n",
            "          16.6518, -16.4425, -17.4076],\n",
            "        [-13.0966,   6.6237,   6.4839, -10.8122,   7.9020,  -1.9988,   3.9561,\n",
            "          14.3116, -13.6716, -12.6477],\n",
            "        [ -2.9838,   8.6707,  11.0402,  -3.8519,  -0.7148,   2.4551,   0.3792,\n",
            "          10.1347, -12.3266, -16.1982],\n",
            "        [  0.7542,   0.4615,   8.3945,  -3.3957,   6.1994,  -6.4685,  -3.2135,\n",
            "          12.2707, -14.7280, -17.0598],\n",
            "        [ -2.9732,   2.0923,   9.6887,   6.3524,  -3.2480, -13.6265,  -3.2107,\n",
            "          13.6412,  -7.4919,  -5.7109],\n",
            "        [ -4.1020,   3.3410,  10.6339,  -2.2864,   2.1853,   0.9256,  -6.3146,\n",
            "          18.9981, -10.3699, -19.8302],\n",
            "        [ -0.1126,   2.1691,   6.3201,   2.6809,  11.1261,  -5.9649,  -8.1551,\n",
            "          -3.2298,  -9.5841,  -0.0128],\n",
            "        [ -8.2879,  -1.0971,   6.3441, -11.6070,   7.5226,  -1.5288,  -3.4179,\n",
            "           9.3871, -11.1625, -18.0472],\n",
            "        [ -2.4475,   0.6659,  14.0868,  -9.9576,  -2.2322,  -8.0119,   3.9616,\n",
            "          23.3318,  -6.3031, -15.2451],\n",
            "        [-14.7344,  -4.1024,   7.4363,  -1.2915,   7.2880,  -7.5543,  -0.9482,\n",
            "          13.2707, -10.8930,  -1.2362],\n",
            "        [  2.9890,  -1.6290,  13.7229,  -1.5911, -10.7871,  -0.5493,  -4.9943,\n",
            "          17.3532,  -4.7413, -15.9034],\n",
            "        [ -1.7560,   5.2018,   8.1262,  -8.7403,   8.7715,  -5.2129,  -3.3874,\n",
            "           9.2022,  -9.8724, -15.8097],\n",
            "        [ -2.6210,  -1.4947,   7.9060,   3.3399,   2.3511,  -7.9687,   0.8217,\n",
            "          16.5309, -12.4251, -11.8757],\n",
            "        [  2.5321,  10.2998,  16.1690,  -9.0604,   6.7264,  -5.1927, -12.8182,\n",
            "          25.4873,   4.9159, -12.6338],\n",
            "        [ 10.3195,   8.8865,   9.0325,  -1.2141,   1.6115,  -0.0612,  -7.0406,\n",
            "          25.3764,  -0.5046, -14.6760],\n",
            "        [ -5.4620,  -2.0845,   8.3092,  -1.9040,   4.5025, -14.7229,  11.2214,\n",
            "          15.0394, -15.3988, -12.2992],\n",
            "        [ -5.7024,   5.0906,  15.8772,  -3.8237,  -0.1092,  -0.5315,  -8.6406,\n",
            "           9.9348,  -8.2630, -12.4961],\n",
            "        [ -0.1757,   7.5719,  12.3734,   5.7706,   4.5507,   4.2544, -12.0726,\n",
            "           9.9968,  -6.8529,  -9.6846],\n",
            "        [ -6.6343,  -0.1112,  11.7573, -10.9854,  -1.0695, -17.4349, -11.0194,\n",
            "          10.0472, -13.4113, -12.6169],\n",
            "        [ -4.6764,  -0.8083,   5.0436,  -9.9778,   5.1616,  -1.1477,   2.8473,\n",
            "          22.8951, -15.7669, -11.4664],\n",
            "        [-18.9316,   1.7085,  18.5488, -10.3536,   8.3376,   8.2238,  -9.7734,\n",
            "          -1.0134,  -7.4141,  -5.0266],\n",
            "        [-13.5813,  -2.1677,   9.4412,   4.5612,   1.3596,   1.0871,   6.8209,\n",
            "          19.2410, -16.1940,  -8.5936],\n",
            "        [ -3.4035,  -1.2078,  18.4272,  -4.0533,  -1.2058,  -0.8922,  -1.0444,\n",
            "          11.4814, -12.2588,  -9.7873],\n",
            "        [ -5.0571,  -0.4134,  16.9484, -10.9916,  -0.7973,   2.2705,  -2.0232,\n",
            "          15.8006,  -2.5493, -15.1330],\n",
            "        [ -6.0955,   4.4149,  13.4503,   2.3677,   0.3817,   7.9685,  -6.0864,\n",
            "          15.6816, -10.4163, -14.9644],\n",
            "        [ -4.9260,  -6.2836,  10.9808,   0.3485,  -4.1133,  -2.9490,  -0.3258,\n",
            "          10.7596,  -7.9713,  -8.6711],\n",
            "        [ -5.9856,  -3.1136,  20.8360,  -1.6259,  -0.0381,  -2.0107,  -8.2924,\n",
            "          12.4777,  -8.1347,  -4.4002],\n",
            "        [ -4.2466,  -3.2190,  16.1741,   2.1042,   2.5348,  -5.1119,  -2.9582,\n",
            "           8.3134, -14.7614, -12.0621],\n",
            "        [ -1.6366,   1.2715,  13.2248, -10.3226,   1.9324,  -6.5308,   3.0275,\n",
            "          17.3564, -12.3210, -18.1360],\n",
            "        [ -7.2867,   2.1495,   6.7780,  -2.0705,   4.4369, -14.1416,   0.6619,\n",
            "          17.1062,  -2.4294, -11.2290]])\n"
          ],
          "name": "stdout"
        }
      ]
    },
    {
      "metadata": {
        "id": "NHQAcHTvw6Uj",
        "colab_type": "code",
        "colab": {
          "base_uri": "https://localhost:8080/",
          "height": 170
        },
        "outputId": "ea146a0a-512b-4086-ac89-46e110850352"
      },
      "cell_type": "code",
      "source": [
        "## Solution\n",
        "\n",
        "def softmax(x):\n",
        "  return torch.exp(x)/torch.sum(torch.exp(x), dim=1).view(-1, 1)\n",
        "\n",
        "probabilities = softmax(out)\n",
        "\n",
        "# Does it have the right shape.? Should be (64, 10)\n",
        "print(probabilities.shape)\n",
        "\n",
        "# Does it sum to 1?\n",
        "print(probabilities.sum(dim=1))\n"
      ],
      "execution_count": 67,
      "outputs": [
        {
          "output_type": "stream",
          "text": [
            "torch.Size([64, 10])\n",
            "tensor([1.0000, 1.0000, 1.0000, 1.0000, 1.0000, 1.0000, 1.0000, 1.0000, 1.0000,\n",
            "        1.0000, 1.0000, 1.0000, 1.0000, 1.0000, 1.0000, 1.0000, 1.0000, 1.0000,\n",
            "        1.0000, 1.0000, 1.0000, 1.0000, 1.0000, 1.0000, 1.0000, 1.0000, 1.0000,\n",
            "        1.0000, 1.0000, 1.0000, 1.0000, 1.0000, 1.0000, 1.0000, 1.0000, 1.0000,\n",
            "        1.0000, 1.0000, 1.0000, 1.0000, 1.0000, 1.0000, 1.0000, 1.0000, 1.0000,\n",
            "        1.0000, 1.0000, 1.0000, 1.0000, 1.0000, 1.0000, 1.0000, 1.0000, 1.0000,\n",
            "        1.0000, 1.0000, 1.0000, 1.0000, 1.0000, 1.0000, 1.0000, 1.0000, 1.0000,\n",
            "        1.0000])\n"
          ],
          "name": "stdout"
        }
      ]
    }
  ]
}