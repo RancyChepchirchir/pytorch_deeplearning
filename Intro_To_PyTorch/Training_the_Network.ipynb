{
  "nbformat": 4,
  "nbformat_minor": 0,
  "metadata": {
    "colab": {
      "name": "Training_the_Network.ipynb",
      "version": "0.3.2",
      "provenance": [],
      "collapsed_sections": [],
      "include_colab_link": true
    },
    "kernelspec": {
      "name": "python3",
      "display_name": "Python 3"
    }
  },
  "cells": [
    {
      "cell_type": "markdown",
      "metadata": {
        "id": "view-in-github",
        "colab_type": "text"
      },
      "source": [
        "<a href=\"https://colab.research.google.com/github/UrviSoni/pytorch_deeplearning/blob/master/Training_the_Network.ipynb\" target=\"_parent\"><img src=\"https://colab.research.google.com/assets/colab-badge.svg\" alt=\"Open In Colab\"/></a>"
      ]
    },
    {
      "metadata": {
        "id": "_1IOPld8hLrz",
        "colab_type": "code",
        "colab": {}
      },
      "cell_type": "code",
      "source": [
        "import torch\n",
        "from torch import optim\n",
        "from torch import nn\n",
        "import torch.nn.functional as F\n",
        "from torchvision import datasets, transforms\n",
        "\n",
        "\n",
        "# Define a transform to normalize the data\n",
        "transform = transforms.Compose([transforms.ToTensor(),transforms.Normalize((0.5, 0.5, 0.5),(0.5, 0.5, 0.5)),])\n",
        "# Download the load the training data\n",
        "trainset = datasets.MNIST('~/.pytorch/MNIST_data/', download=True, train=True, transform=transform)\n",
        "trainloader = torch.utils.data.DataLoader(trainset, batch_size=64, shuffle=True)\n",
        "\n"
      ],
      "execution_count": 0,
      "outputs": []
    },
    {
      "metadata": {
        "id": "3nASUnINiOZV",
        "colab_type": "code",
        "colab": {
          "base_uri": "https://localhost:8080/",
          "height": 289
        },
        "outputId": "c46a6935-5a89-4366-9299-6c40f228a9b6"
      },
      "cell_type": "code",
      "source": [
        "# Build a feed-forward network\n",
        "model = nn.Sequential(nn.Linear(784, 128),nn.ReLU(),nn.Linear(128, 64),nn.ReLU(),nn.Linear(64, 10))\n",
        "\n",
        "# Define the loss\n",
        "criterion = nn.CrossEntropyLoss()\n",
        "\n",
        "# Optimizers requires the parameters to optimize and a learning rate\n",
        "optimizer = optim.SGD(model.parameters(), lr=0.001)\n",
        "\n",
        "print('Initial Weights -', model[0].weight)\n",
        "\n",
        "images, labels = next(iter(trainloader))\n",
        "images.resize_(64, 784)\n",
        "\n",
        "# Clear the gradients, do this because Gradients are accumulated\n",
        "optimizer.zero_grad()\n",
        "\n",
        "# Forward pass, then backward pass, then update weights\n",
        "output = model.forward(images)\n",
        "loss = criterion(output, labels)\n",
        "loss.backward()\n",
        "print('Gradient -', model[0].weight.grad)\n",
        "\n"
      ],
      "execution_count": 2,
      "outputs": [
        {
          "output_type": "stream",
          "text": [
            "Initial Weights - Parameter containing:\n",
            "tensor([[ 0.0026,  0.0075, -0.0196,  ..., -0.0330,  0.0156, -0.0001],\n",
            "        [ 0.0243,  0.0248,  0.0156,  ..., -0.0249,  0.0334,  0.0192],\n",
            "        [ 0.0038,  0.0325, -0.0016,  ..., -0.0127, -0.0063,  0.0032],\n",
            "        ...,\n",
            "        [-0.0254, -0.0277, -0.0172,  ...,  0.0266,  0.0241,  0.0181],\n",
            "        [-0.0117,  0.0137,  0.0110,  ...,  0.0148,  0.0277,  0.0240],\n",
            "        [-0.0241,  0.0302, -0.0020,  ..., -0.0258, -0.0096, -0.0017]],\n",
            "       requires_grad=True)\n",
            "Gradient - tensor([[ 0.0017,  0.0017,  0.0017,  ...,  0.0017,  0.0017,  0.0017],\n",
            "        [ 0.0014,  0.0014,  0.0014,  ...,  0.0014,  0.0014,  0.0014],\n",
            "        [-0.0052, -0.0052, -0.0052,  ..., -0.0052, -0.0052, -0.0052],\n",
            "        ...,\n",
            "        [-0.0002, -0.0002, -0.0002,  ..., -0.0002, -0.0002, -0.0002],\n",
            "        [ 0.0003,  0.0003,  0.0003,  ...,  0.0003,  0.0003,  0.0003],\n",
            "        [ 0.0002,  0.0002,  0.0002,  ...,  0.0002,  0.0002,  0.0002]])\n"
          ],
          "name": "stdout"
        }
      ]
    },
    {
      "metadata": {
        "id": "MHeAG5y9km5_",
        "colab_type": "code",
        "colab": {
          "base_uri": "https://localhost:8080/",
          "height": 170
        },
        "outputId": "20964ad2-3130-4ec1-b293-931b2438d84b"
      },
      "cell_type": "code",
      "source": [
        "# Take an update step and few the new weights\n",
        "optimizer.step()\n",
        "print('Updates weights -', model[0].weight)"
      ],
      "execution_count": 3,
      "outputs": [
        {
          "output_type": "stream",
          "text": [
            "Updates weights - Parameter containing:\n",
            "tensor([[ 0.0026,  0.0075, -0.0196,  ..., -0.0330,  0.0156, -0.0001],\n",
            "        [ 0.0243,  0.0248,  0.0156,  ..., -0.0249,  0.0334,  0.0192],\n",
            "        [ 0.0038,  0.0325, -0.0016,  ..., -0.0127, -0.0063,  0.0032],\n",
            "        ...,\n",
            "        [-0.0254, -0.0277, -0.0172,  ...,  0.0266,  0.0241,  0.0181],\n",
            "        [-0.0117,  0.0137,  0.0110,  ...,  0.0148,  0.0277,  0.0240],\n",
            "        [-0.0241,  0.0302, -0.0020,  ..., -0.0258, -0.0096, -0.0017]],\n",
            "       requires_grad=True)\n"
          ],
          "name": "stdout"
        }
      ]
    },
    {
      "metadata": {
        "id": "MU_zzQkAq7x7",
        "colab_type": "code",
        "colab": {
          "base_uri": "https://localhost:8080/",
          "height": 102
        },
        "outputId": "dc838700-2fa8-428c-e75f-9354218e4a97"
      },
      "cell_type": "code",
      "source": [
        "model = nn.Sequential(nn.Linear(784, 128),\n",
        "                     nn.ReLU(),\n",
        "                     nn.Linear(128, 64),\n",
        "                     nn.ReLU(),\n",
        "                     nn.Linear(64, 10),\n",
        "                     nn.LogSoftmax(dim=1))\n",
        "\n",
        "criterion = nn.NLLLoss()\n",
        "optimizer = optim.SGD(model.parameters(), lr=0.003)\n",
        "\n",
        "epochs = 5\n",
        "for e in range(epochs):\n",
        "  running_loss = 0\n",
        "  for images, labels in trainloader:\n",
        "    #Faltten MNIST images into a 784 long vector\n",
        "    images = images.view(images.shape[0], -1)\n",
        "    \n",
        "    # TODO: Training pass\n",
        "    optimizer.zero_grad()\n",
        "    \n",
        "    output = model.forward(images)\n",
        "    loss = criterion(output, labels)\n",
        "    loss.backward()\n",
        "    optimizer.step()\n",
        "    \n",
        "    running_loss += loss.item()\n",
        "    \n",
        "  else:\n",
        "    print(f\"Training loss: {running_loss/len(trainloader)}\")\n"
      ],
      "execution_count": 4,
      "outputs": [
        {
          "output_type": "stream",
          "text": [
            "Training loss: 1.8516166826555216\n",
            "Training loss: 0.8007913245829438\n",
            "Training loss: 0.5165269206137036\n",
            "Training loss: 0.4309543612828133\n",
            "Training loss: 0.38809249812224783\n"
          ],
          "name": "stdout"
        }
      ]
    },
    {
      "metadata": {
        "id": "CPFncAStz6_i",
        "colab_type": "code",
        "colab": {
          "base_uri": "https://localhost:8080/",
          "height": 136
        },
        "outputId": "6b4dc56c-77b6-4707-e3e4-2bbb56d3a830"
      },
      "cell_type": "code",
      "source": [
        " !wget -c https://raw.githubusercontent.com/udacity/deep-learning-v2-pytorch/master/intro-to-pytorch/helper.py"
      ],
      "execution_count": 5,
      "outputs": [
        {
          "output_type": "stream",
          "text": [
            "--2018-12-19 09:41:22--  https://raw.githubusercontent.com/udacity/deep-learning-v2-pytorch/master/intro-to-pytorch/helper.py\n",
            "Resolving raw.githubusercontent.com (raw.githubusercontent.com)... 151.101.0.133, 151.101.64.133, 151.101.128.133, ...\n",
            "Connecting to raw.githubusercontent.com (raw.githubusercontent.com)|151.101.0.133|:443... connected.\n",
            "HTTP request sent, awaiting response... 416 Range Not Satisfiable\n",
            "\n",
            "    The file is already fully retrieved; nothing to do.\n",
            "\n"
          ],
          "name": "stdout"
        }
      ]
    },
    {
      "metadata": {
        "id": "fwyLMn5K06MC",
        "colab_type": "code",
        "colab": {
          "base_uri": "https://localhost:8080/",
          "height": 136
        },
        "outputId": "6332debb-55f2-430b-9ade-b804b0857577"
      },
      "cell_type": "code",
      "source": [
        "!wget -c https://raw.githubusercontent.com/udacity/deep-learning-v2-pytorch/master/intro-to-pytorch/helper.py"
      ],
      "execution_count": 6,
      "outputs": [
        {
          "output_type": "stream",
          "text": [
            "--2018-12-19 09:41:25--  https://raw.githubusercontent.com/udacity/deep-learning-v2-pytorch/master/intro-to-pytorch/helper.py\n",
            "Resolving raw.githubusercontent.com (raw.githubusercontent.com)... 151.101.0.133, 151.101.64.133, 151.101.128.133, ...\n",
            "Connecting to raw.githubusercontent.com (raw.githubusercontent.com)|151.101.0.133|:443... connected.\n",
            "HTTP request sent, awaiting response... 416 Range Not Satisfiable\n",
            "\n",
            "    The file is already fully retrieved; nothing to do.\n",
            "\n"
          ],
          "name": "stdout"
        }
      ]
    },
    {
      "metadata": {
        "id": "-SxL351OusD1",
        "colab_type": "code",
        "colab": {
          "base_uri": "https://localhost:8080/",
          "height": 245
        },
        "outputId": "c7cd3ec1-366d-44aa-d4a0-81077c37e6f9"
      },
      "cell_type": "code",
      "source": [
        "%matplotlib inline\n",
        "import sys\n",
        "import helper\n",
        "\n",
        "images, labels = next(iter(trainloader))\n",
        "\n",
        "img = images[0].view(1, 784)\n",
        "# Turn off Gradient to speed up this part\n",
        "with torch.no_grad():\n",
        "  logits = model.forward(img)\n",
        "  \n",
        "# Output of the network are logits, need to take softmax for prababilities\n",
        "ps = F.softmax(logits, dim=1)\n",
        "helper.view_classify(img.view(1, 28, 28), ps)"
      ],
      "execution_count": 7,
      "outputs": [
        {
          "output_type": "display_data",
          "data": {
            "image/png": "[encoded data removed]",
            "text/plain": [
              "<matplotlib.figure.Figure at 0x7f875aa8d320>"
            ]
          },
          "metadata": {
            "tags": []
          }
        }
      ]
    }
  ]
}